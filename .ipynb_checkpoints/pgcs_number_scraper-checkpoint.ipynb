{
 "cells": [
  {
   "cell_type": "markdown",
   "id": "c37e2d84",
   "metadata": {},
   "source": [
    "# PGCS Number Scraper"
   ]
  },
  {
   "cell_type": "markdown",
   "id": "1f273038",
   "metadata": {},
   "source": [
    "### Get HTML"
   ]
  },
  {
   "cell_type": "code",
   "execution_count": 1,
   "id": "f7208f24",
   "metadata": {},
   "outputs": [],
   "source": [
    "import requests\n",
    "from bs4 import BeautifulSoup\n",
    "import cloudscraper\n",
    "import pandas as pd\n",
    "import numpy as np\n",
    "\n"
   ]
  },
  {
   "cell_type": "code",
   "execution_count": 2,
   "id": "50433676",
   "metadata": {},
   "outputs": [
    {
     "name": "stdout",
     "output_type": "stream",
     "text": [
      "status code: 200\n"
     ]
    }
   ],
   "source": [
    "header = {'User-Agent': 'Mozilla/5.0 (Windows NT 10.0; WOW64; rv:70.0) Gecko/20100101 Firefox/70.0',\n",
    "         'referer': 'https://www.google.com/',\n",
    "         'Upgrade-Insecure-Requests': '1'}\n",
    "\n",
    "URL = 'https://www.pcgs.com/prices/detail/mercury-dime/703/most-active/ms?pn=1&ps=-1'\n",
    "\n",
    "scraper = cloudscraper.create_scraper()\n",
    "\n",
    "test = scraper.get(URL)\n",
    "\n",
    "html = scraper.get(URL).text \n",
    "\n",
    "print(\"status code: \" + str(test.status_code))"
   ]
  },
  {
   "cell_type": "code",
   "execution_count": 6,
   "id": "4ded0a3e",
   "metadata": {},
   "outputs": [
    {
     "name": "stdout",
     "output_type": "stream",
     "text": [
      "see assets folder\n"
     ]
    }
   ],
   "source": [
    "df = pd.read_html(html)\n",
    "\n",
    "df = pd.DataFrame(df[0],dtype=object)\n",
    "df.to_csv(\"assets/pgcs_number_output.csv\")\n",
    "\n",
    "print('see assets folder')\n"
   ]
  }
 ],
 "metadata": {
  "kernelspec": {
   "display_name": "Python 3 (ipykernel)",
   "language": "python",
   "name": "python3"
  },
  "language_info": {
   "codemirror_mode": {
    "name": "ipython",
    "version": 3
   },
   "file_extension": ".py",
   "mimetype": "text/x-python",
   "name": "python",
   "nbconvert_exporter": "python",
   "pygments_lexer": "ipython3",
   "version": "3.10.6"
  }
 },
 "nbformat": 4,
 "nbformat_minor": 5
}
