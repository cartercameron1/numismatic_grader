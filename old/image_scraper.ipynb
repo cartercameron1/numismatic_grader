{
 "cells": [
  {
   "cell_type": "code",
   "execution_count": null,
   "id": "75632d57",
   "metadata": {},
   "outputs": [],
   "source": [
    "#Here we need a function that takes a PGCS number and generates the appropriate url to get the pictures from"
   ]
  },
  {
   "cell_type": "code",
   "execution_count": null,
   "id": "a9e255bf",
   "metadata": {},
   "outputs": [],
   "source": [
    "#Here we need a function that will thake the url and get the corresponding pictured and label them appropriatly"
   ]
  },
  {
   "cell_type": "code",
   "execution_count": null,
   "id": "85c0a88c",
   "metadata": {},
   "outputs": [],
   "source": [
    "# loop that will use the previous 2 functions to gather all the neccesary pictures \n",
    "#WARNING do not scrape to fast, and use rotating proxies"
   ]
  }
 ],
 "metadata": {
  "kernelspec": {
   "display_name": "Python 3 (ipykernel)",
   "language": "python",
   "name": "python3"
  },
  "language_info": {
   "codemirror_mode": {
    "name": "ipython",
    "version": 3
   },
   "file_extension": ".py",
   "mimetype": "text/x-python",
   "name": "python",
   "nbconvert_exporter": "python",
   "pygments_lexer": "ipython3",
   "version": "3.10.6"
  }
 },
 "nbformat": 4,
 "nbformat_minor": 5
}
