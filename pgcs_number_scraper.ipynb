{
 "cells": [
  {
   "attachments": {},
   "cell_type": "markdown",
   "id": "c37e2d84",
   "metadata": {},
   "source": [
    "# PGCS Number Scraper"
   ]
  },
  {
   "attachments": {},
   "cell_type": "markdown",
   "id": "1f273038",
   "metadata": {},
   "source": [
    "### Get HTML"
   ]
  },
  {
   "cell_type": "code",
   "execution_count": null,
   "id": "f7208f24",
   "metadata": {},
   "outputs": [],
   "source": [
    "import cloudscraper\n",
    "\n",
    "url = \"https://www.pcgs.com/prices/detail/mercury-dime/703/most-active\"\n",
    "scraper = cloudscraper.create_scraper()\n",
    "\n",
    "html = scraper.get(url).text;"
   ]
  }
 ],
 "metadata": {
  "kernelspec": {
   "display_name": "Python 3 (ipykernel)",
   "language": "python",
   "name": "python3"
  },
  "language_info": {
   "codemirror_mode": {
    "name": "ipython",
    "version": 3
   },
   "file_extension": ".py",
   "mimetype": "text/x-python",
   "name": "python",
   "nbconvert_exporter": "python",
   "pygments_lexer": "ipython3",
   "version": "3.10.6"
  }
 },
 "nbformat": 4,
 "nbformat_minor": 5
}
