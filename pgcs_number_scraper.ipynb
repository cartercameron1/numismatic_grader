{
 "cells": [
  {
   "cell_type": "markdown",
   "id": "c37e2d84",
   "metadata": {},
   "source": [
    "# PGCS Number Scraper"
   ]
  },
  {
   "cell_type": "code",
   "execution_count": null,
   "id": "0e729380",
   "metadata": {},
   "outputs": [],
   "source": [
    "#This notebook is designed to obtain all the neccesary information to complete create an image scraper."
   ]
  },
  {
   "cell_type": "markdown",
   "id": "1f273038",
   "metadata": {},
   "source": [
    "### Get HTML"
   ]
  },
  {
   "cell_type": "code",
   "execution_count": 1,
   "id": "f7208f24",
   "metadata": {},
   "outputs": [],
   "source": [
    "import requests\n",
    "from bs4 import BeautifulSoup\n",
    "import cloudscraper\n",
    "import pandas as pd\n",
    "import numpy as np\n",
    "\n"
   ]
  },
  {
   "cell_type": "code",
   "execution_count": 2,
   "id": "50433676",
   "metadata": {},
   "outputs": [
    {
     "name": "stdout",
     "output_type": "stream",
     "text": [
      "status code: 200\n"
     ]
    }
   ],
   "source": [
    "#establish connectection and pull html\n",
    "header = {'User-Agent': 'Mozilla/5.0 (Windows NT 10.0; WOW64; rv:70.0) Gecko/20100101 Firefox/70.0',\n",
    "         'referer': 'https://www.google.com/',\n",
    "         'Upgrade-Insecure-Requests': '1'}\n",
    "\n",
    "URL = 'https://www.pcgs.com/prices/detail/mercury-dime/703/most-active/ms?pn=1&ps=-1'\n",
    "\n",
    "scraper = cloudscraper.create_scraper()\n",
    "\n",
    "test = scraper.get(URL)\n",
    "\n",
    "html = scraper.get(URL).text \n",
    "\n",
    "print(\"status code: \" + str(test.status_code))"
   ]
  },
  {
   "cell_type": "code",
   "execution_count": 137,
   "id": "4ded0a3e",
   "metadata": {},
   "outputs": [
    {
     "data": {
      "text/html": [
       "<div>\n",
       "<style scoped>\n",
       "    .dataframe tbody tr th:only-of-type {\n",
       "        vertical-align: middle;\n",
       "    }\n",
       "\n",
       "    .dataframe tbody tr th {\n",
       "        vertical-align: top;\n",
       "    }\n",
       "\n",
       "    .dataframe thead th {\n",
       "        text-align: right;\n",
       "    }\n",
       "</style>\n",
       "<table border=\"1\" class=\"dataframe\">\n",
       "  <thead>\n",
       "    <tr style=\"text-align: right;\">\n",
       "      <th></th>\n",
       "      <th>description</th>\n",
       "    </tr>\n",
       "    <tr>\n",
       "      <th>pcgs_number</th>\n",
       "      <th></th>\n",
       "    </tr>\n",
       "  </thead>\n",
       "  <tbody>\n",
       "    <tr>\n",
       "      <th>4904</th>\n",
       "      <td>1916</td>\n",
       "    </tr>\n",
       "    <tr>\n",
       "      <th>4905</th>\n",
       "      <td>1916</td>\n",
       "    </tr>\n",
       "    <tr>\n",
       "      <th>4906</th>\n",
       "      <td>1916-D</td>\n",
       "    </tr>\n",
       "    <tr>\n",
       "      <th>4907</th>\n",
       "      <td>1916-D</td>\n",
       "    </tr>\n",
       "    <tr>\n",
       "      <th>4908</th>\n",
       "      <td>1916-S</td>\n",
       "    </tr>\n",
       "    <tr>\n",
       "      <th>...</th>\n",
       "      <td>...</td>\n",
       "    </tr>\n",
       "    <tr>\n",
       "      <th>5057</th>\n",
       "      <td>1945</td>\n",
       "    </tr>\n",
       "    <tr>\n",
       "      <th>5058</th>\n",
       "      <td>1945-D</td>\n",
       "    </tr>\n",
       "    <tr>\n",
       "      <th>5059</th>\n",
       "      <td>1945-D</td>\n",
       "    </tr>\n",
       "    <tr>\n",
       "      <th>5060</th>\n",
       "      <td>1945-S</td>\n",
       "    </tr>\n",
       "    <tr>\n",
       "      <th>5061</th>\n",
       "      <td>1945-S</td>\n",
       "    </tr>\n",
       "  </tbody>\n",
       "</table>\n",
       "<p>160 rows × 1 columns</p>\n",
       "</div>"
      ],
      "text/plain": [
       "            description\n",
       "pcgs_number            \n",
       "4904               1916\n",
       "4905               1916\n",
       "4906             1916-D\n",
       "4907             1916-D\n",
       "4908             1916-S\n",
       "...                 ...\n",
       "5057               1945\n",
       "5058             1945-D\n",
       "5059             1945-D\n",
       "5060             1945-S\n",
       "5061             1945-S\n",
       "\n",
       "[160 rows x 1 columns]"
      ]
     },
     "execution_count": 137,
     "metadata": {},
     "output_type": "execute_result"
    }
   ],
   "source": [
    "#creates and cleans the table\n",
    "df = pd.read_html(html)\n",
    "\n",
    "\n",
    "df = pd.DataFrame(df[0],dtype=object)\n",
    "\n",
    "df = df.drop([0,1])\n",
    "\n",
    "df = df.rename(columns=df.iloc[0])\n",
    "\n",
    "\n",
    "df = df[['PCGS #','Description']].copy()\n",
    "\n",
    "df = df.rename(columns={\"PCGS #\": \"pcgs_number\", 'Description': 'description'})\n",
    "\n",
    "df = df.dropna()\n",
    "\n",
    "df = df.reset_index(drop=True)\n",
    "\n",
    "#manual indexing check if error occurs, pcgs might change something\n",
    "df = df.drop(range(0,3))\n",
    "df = df.drop(range(163,166))\n",
    "        \n",
    "df = df.set_index('pcgs_number')\n",
    "\n",
    "df['description'] = df['description'].str.replace('Shop with Affiliates ', '')\n",
    "df['description'] = df['description'].str.replace(' Mercury', '')\n",
    "\n",
    "df\n",
    "\n",
    "\n",
    "\n"
   ]
  },
  {
   "cell_type": "code",
   "execution_count": 138,
   "id": "258b6396",
   "metadata": {},
   "outputs": [
    {
     "name": "stdout",
     "output_type": "stream",
     "text": [
      "see assets folder for output\n"
     ]
    }
   ],
   "source": [
    "#outputs the dataframe to a csv\n",
    "\n",
    "location = \"assets/pgcs_number_output.csv\"\n",
    "\n",
    "df.to_csv(location)\n",
    "\n",
    "print('see assets folder for output')\n"
   ]
  },
  {
   "cell_type": "code",
   "execution_count": null,
   "id": "69f69055",
   "metadata": {},
   "outputs": [],
   "source": []
  }
 ],
 "metadata": {
  "kernelspec": {
   "display_name": "Python 3 (ipykernel)",
   "language": "python",
   "name": "python3"
  },
  "language_info": {
   "codemirror_mode": {
    "name": "ipython",
    "version": 3
   },
   "file_extension": ".py",
   "mimetype": "text/x-python",
   "name": "python",
   "nbconvert_exporter": "python",
   "pygments_lexer": "ipython3",
   "version": "3.10.6"
  }
 },
 "nbformat": 4,
 "nbformat_minor": 5
}
