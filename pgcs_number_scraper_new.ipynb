{
 "cells": [
  {
   "cell_type": "markdown",
   "id": "c37e2d84",
   "metadata": {},
   "source": [
    "# PGCS Number Scraper"
   ]
  },
  {
   "attachments": {},
   "cell_type": "markdown",
   "id": "38ab5899",
   "metadata": {},
   "source": [
    "This notebook is designed to obtain all the neccesary information to complete create an image scraper."
   ]
  },
  {
   "attachments": {},
   "cell_type": "markdown",
   "id": "1f273038",
   "metadata": {},
   "source": [
    "## Get HTML"
   ]
  },
  {
   "attachments": {},
   "cell_type": "markdown",
   "id": "ac2dae00",
   "metadata": {},
   "source": [
    "Get the HTML from the PCGS website."
   ]
  },
  {
   "attachments": {},
   "cell_type": "markdown",
   "id": "dad188d7",
   "metadata": {},
   "source": [
    "### Imports"
   ]
  },
  {
   "attachments": {},
   "cell_type": "markdown",
   "id": "8a553907",
   "metadata": {},
   "source": [
    "Import `cloudscraper` for scraping. Import `pandas` for data manipulation."
   ]
  },
  {
   "cell_type": "code",
   "execution_count": null,
   "id": "f7208f24",
   "metadata": {},
   "outputs": [],
   "source": [
    "from bs4 import BeautifulSoup\n",
    "import cloudscraper\n",
    "import pandas as pd\n",
    "import numpy as np"
   ]
  },
  {
   "attachments": {},
   "cell_type": "markdown",
   "id": "61ba717f",
   "metadata": {},
   "source": [
    "### Headers and scraper"
   ]
  },
  {
   "cell_type": "code",
   "execution_count": null,
   "id": "50433676",
   "metadata": {},
   "outputs": [],
   "source": [
    "# Establish connectection and pull HTML\n",
    "header = {'User-Agent': 'Mozilla/5.0 (Windows NT 10.0; WOW64; rv:70.0) Gecko/20100101 Firefox/70.0',\n",
    "         'referer': 'https://www.google.com/',\n",
    "         'Upgrade-Insecure-Requests': '1'}\n",
    "url = 'https://www.pcgs.com/prices/detail/mercury-dime/703/most-active/ms?pn=1&ps=-1'\n",
    "scraper = cloudscraper.create_scraper()\n",
    "status = scraper.get(url)\n",
    "html = status.text \n",
    "\n",
    "print('Status code: ' + str(status.status_code))"
   ]
  },
  {
   "attachments": {},
   "cell_type": "markdown",
   "id": "d0c79d4f",
   "metadata": {},
   "source": [
    "### Get table from PCGS"
   ]
  },
  {
   "attachments": {},
   "cell_type": "markdown",
   "id": "48d323db",
   "metadata": {},
   "source": [
    "For now, we don't need the description as we originally thought. Might delete the manuel indexings later."
   ]
  },
  {
   "cell_type": "code",
   "execution_count": null,
   "id": "4ded0a3e",
   "metadata": {},
   "outputs": [],
   "source": [
    "# Creates and cleans the table\n",
    "df = pd.read_html(html)\n",
    "df = pd.DataFrame(df[0],dtype=object)\n",
    "df = df.drop([0,1])\n",
    "df = df.rename(columns=df.iloc[0])\n",
    "df = df[['PCGS #','Description']].copy()\n",
    "df = df.rename(columns={'PCGS #': 'id', 'Description': 'description'})\n",
    "df = df.dropna()\n",
    "df = df.reset_index(drop=True)\n",
    "\n",
    "# Manual indexing check if error occurs, pcgs might change something\n",
    "df = df.drop(range(0,3))\n",
    "df = df.drop(range(163,166))\n",
    "df = df.set_index('id')\n",
    "df['description'] = df['description'].str.replace('Shop with Affiliates ', '')\n",
    "df['description'] = df['description'].str.replace(' Mercury', '')\n",
    "\n",
    "# Display table\n",
    "df"
   ]
  },
  {
   "attachments": {},
   "cell_type": "markdown",
   "id": "32836d5c",
   "metadata": {},
   "source": [
    "Store the data to a CSV for later use"
   ]
  },
  {
   "cell_type": "code",
   "execution_count": null,
   "id": "258b6396",
   "metadata": {},
   "outputs": [],
   "source": [
    "# Outputs the DataFrame to a CSV\n",
    "location = 'assets/pgcs_number_output.csv'\n",
    "df.to_csv(location)\n",
    "\n",
    "print('See assets folder for output')"
   ]
  },
  {
   "attachments": {},
   "cell_type": "markdown",
   "id": "c414a86c",
   "metadata": {},
   "source": [
    "### Generate URLs from DataFrame"
   ]
  },
  {
   "cell_type": "code",
   "execution_count": null,
   "id": "04a7f83e",
   "metadata": {},
   "outputs": [],
   "source": [
    "urls = []\n",
    "fixed_url = 'https://www.pcgs.com/coinfacts/coin/'\n",
    "\n",
    "for id in df.index:\n",
    "  urls.append(fixed_url + id)\n",
    "\n",
    "urls"
   ]
  }
 ],
 "metadata": {
  "kernelspec": {
   "display_name": "Python 3 (ipykernel)",
   "language": "python",
   "name": "python3"
  },
  "language_info": {
   "codemirror_mode": {
    "name": "ipython",
    "version": 3
   },
   "file_extension": ".py",
   "mimetype": "text/x-python",
   "name": "python",
   "nbconvert_exporter": "python",
   "pygments_lexer": "ipython3",
   "version": "3.10.10"
  }
 },
 "nbformat": 4,
 "nbformat_minor": 5
}
