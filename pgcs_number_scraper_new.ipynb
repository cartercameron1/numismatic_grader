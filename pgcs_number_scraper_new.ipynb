{
 "cells": [
  {
   "cell_type": "markdown",
   "id": "c37e2d84",
   "metadata": {},
   "source": [
    "# PGCS Number Scraper"
   ]
  },
  {
   "cell_type": "markdown",
   "id": "38ab5899",
   "metadata": {},
   "source": [
    "This notebook is designed to obtain all the neccesary information to complete create an image scraper."
   ]
  },
  {
   "cell_type": "markdown",
   "id": "1f273038",
   "metadata": {},
   "source": [
    "## Get HTML"
   ]
  },
  {
   "cell_type": "markdown",
   "id": "ac2dae00",
   "metadata": {},
   "source": [
    "Get the HTML from the PCGS website."
   ]
  },
  {
   "cell_type": "markdown",
   "id": "dad188d7",
   "metadata": {},
   "source": [
    "### Imports"
   ]
  },
  {
   "cell_type": "markdown",
   "id": "8a553907",
   "metadata": {},
   "source": [
    "Import `cloudscraper` for scraping. Import `pandas` for data manipulation."
   ]
  },
  {
   "cell_type": "code",
   "execution_count": 6,
   "id": "f7208f24",
   "metadata": {},
   "outputs": [],
   "source": [
    "from bs4 import BeautifulSoup\n",
    "import cloudscraper\n",
    "import pandas as pd\n",
    "import numpy as np"
   ]
  },
  {
   "cell_type": "markdown",
   "id": "61ba717f",
   "metadata": {},
   "source": [
    "### Headers and scraper"
   ]
  },
  {
   "cell_type": "code",
   "execution_count": 7,
   "id": "50433676",
   "metadata": {},
   "outputs": [
    {
     "name": "stdout",
     "output_type": "stream",
     "text": [
      "Status code: 200\n"
     ]
    }
   ],
   "source": [
    "# Establish connectection and pull HTML\n",
    "header = {'User-Agent': 'Mozilla/5.0 (Windows NT 10.0; WOW64; rv:70.0) Gecko/20100101 Firefox/70.0',\n",
    "         'referer': 'https://www.google.com/',\n",
    "         'Upgrade-Insecure-Requests': '1'}\n",
    "url = 'https://www.pcgs.com/prices/detail/mercury-dime/703/most-active/ms?pn=1&ps=-1'\n",
    "scraper = cloudscraper.create_scraper()\n",
    "status = scraper.get(url)\n",
    "html = status.text \n",
    "\n",
    "print('Status code: ' + str(status.status_code))"
   ]
  },
  {
   "cell_type": "markdown",
   "id": "d0c79d4f",
   "metadata": {},
   "source": [
    "### Get table from PCGS"
   ]
  },
  {
   "cell_type": "markdown",
   "id": "48d323db",
   "metadata": {},
   "source": [
    "For now, we don't need the description as we originally thought. Might delete the manuel indexings later."
   ]
  },
  {
   "cell_type": "code",
   "execution_count": 28,
   "id": "4ded0a3e",
   "metadata": {},
   "outputs": [
    {
     "data": {
      "text/html": [
       "<div>\n",
       "<style scoped>\n",
       "    .dataframe tbody tr th:only-of-type {\n",
       "        vertical-align: middle;\n",
       "    }\n",
       "\n",
       "    .dataframe tbody tr th {\n",
       "        vertical-align: top;\n",
       "    }\n",
       "\n",
       "    .dataframe thead th {\n",
       "        text-align: right;\n",
       "    }\n",
       "</style>\n",
       "<table border=\"1\" class=\"dataframe\">\n",
       "  <thead>\n",
       "    <tr style=\"text-align: right;\">\n",
       "      <th></th>\n",
       "      <th>description</th>\n",
       "    </tr>\n",
       "    <tr>\n",
       "      <th>id</th>\n",
       "      <th></th>\n",
       "    </tr>\n",
       "  </thead>\n",
       "  <tbody>\n",
       "    <tr>\n",
       "      <th>4904</th>\n",
       "      <td>1916</td>\n",
       "    </tr>\n",
       "    <tr>\n",
       "      <th>4905</th>\n",
       "      <td>1916</td>\n",
       "    </tr>\n",
       "    <tr>\n",
       "      <th>4906</th>\n",
       "      <td>1916-D</td>\n",
       "    </tr>\n",
       "    <tr>\n",
       "      <th>4907</th>\n",
       "      <td>1916-D</td>\n",
       "    </tr>\n",
       "    <tr>\n",
       "      <th>4908</th>\n",
       "      <td>1916-S</td>\n",
       "    </tr>\n",
       "    <tr>\n",
       "      <th>...</th>\n",
       "      <td>...</td>\n",
       "    </tr>\n",
       "    <tr>\n",
       "      <th>5057</th>\n",
       "      <td>1945</td>\n",
       "    </tr>\n",
       "    <tr>\n",
       "      <th>5058</th>\n",
       "      <td>1945-D</td>\n",
       "    </tr>\n",
       "    <tr>\n",
       "      <th>5059</th>\n",
       "      <td>1945-D</td>\n",
       "    </tr>\n",
       "    <tr>\n",
       "      <th>5060</th>\n",
       "      <td>1945-S</td>\n",
       "    </tr>\n",
       "    <tr>\n",
       "      <th>5061</th>\n",
       "      <td>1945-S</td>\n",
       "    </tr>\n",
       "  </tbody>\n",
       "</table>\n",
       "<p>160 rows × 1 columns</p>\n",
       "</div>"
      ],
      "text/plain": [
       "     description\n",
       "id              \n",
       "4904        1916\n",
       "4905        1916\n",
       "4906      1916-D\n",
       "4907      1916-D\n",
       "4908      1916-S\n",
       "...          ...\n",
       "5057        1945\n",
       "5058      1945-D\n",
       "5059      1945-D\n",
       "5060      1945-S\n",
       "5061      1945-S\n",
       "\n",
       "[160 rows x 1 columns]"
      ]
     },
     "execution_count": 28,
     "metadata": {},
     "output_type": "execute_result"
    }
   ],
   "source": [
    "# Creates and cleans the table\n",
    "df = pd.read_html(html)\n",
    "df = pd.DataFrame(df[0],dtype=object)\n",
    "df = df.drop([0,1])\n",
    "df = df.rename(columns=df.iloc[0])\n",
    "df = df[['PCGS #','Description']].copy()\n",
    "df = df.rename(columns={'PCGS #': 'id', 'Description': 'description'})\n",
    "df = df.dropna()\n",
    "df = df.reset_index(drop=True)\n",
    "\n",
    "# Manual indexing check if error occurs, pcgs might change something\n",
    "df = df.drop(range(0,3))\n",
    "df = df.drop(range(163,166))\n",
    "df = df.set_index('id')\n",
    "df['description'] = df['description'].str.replace('Shop with Affiliates ', '')\n",
    "df['description'] = df['description'].str.replace(' Mercury', '')\n",
    "df['description'] = df['description'].str.replace(' ', '')\n",
    "\n",
    "# Display table\n",
    "df"
   ]
  },
  {
   "cell_type": "markdown",
   "id": "32836d5c",
   "metadata": {},
   "source": [
    "Store the data to a CSV for later use"
   ]
  },
  {
   "cell_type": "code",
   "execution_count": 30,
   "id": "258b6396",
   "metadata": {},
   "outputs": [
    {
     "name": "stdout",
     "output_type": "stream",
     "text": [
      "See assets folder for output\n"
     ]
    }
   ],
   "source": [
    "# Outputs the DataFrame to a CSV\n",
    "location = 'assets/pgcs_number_output.csv'\n",
    "df.to_csv(location)\n",
    "\n",
    "print('See assets folder for output')"
   ]
  },
  {
   "cell_type": "markdown",
   "id": "c414a86c",
   "metadata": {},
   "source": [
    "### Generate URLs from DataFrame"
   ]
  },
  {
   "cell_type": "code",
   "execution_count": 33,
   "id": "04a7f83e",
   "metadata": {},
   "outputs": [
    {
     "data": {
      "text/plain": [
       "['https://www.pcgs.com/coinfacts/coin/1916-10c/images/4904',\n",
       " 'https://www.pcgs.com/coinfacts/coin/1916-10c/images/4905',\n",
       " 'https://www.pcgs.com/coinfacts/coin/1916-D-10c/images/4906',\n",
       " 'https://www.pcgs.com/coinfacts/coin/1916-D-10c/images/4907',\n",
       " 'https://www.pcgs.com/coinfacts/coin/1916-S-10c/images/4908',\n",
       " 'https://www.pcgs.com/coinfacts/coin/1916-S-10c/images/4909',\n",
       " 'https://www.pcgs.com/coinfacts/coin/1917-10c/images/4910',\n",
       " 'https://www.pcgs.com/coinfacts/coin/1917-10c/images/4911',\n",
       " 'https://www.pcgs.com/coinfacts/coin/1917-D-10c/images/4912',\n",
       " 'https://www.pcgs.com/coinfacts/coin/1917-D-10c/images/4913',\n",
       " 'https://www.pcgs.com/coinfacts/coin/1917-S-10c/images/4914',\n",
       " 'https://www.pcgs.com/coinfacts/coin/1917-S-10c/images/4915',\n",
       " 'https://www.pcgs.com/coinfacts/coin/1918-10c/images/4916',\n",
       " 'https://www.pcgs.com/coinfacts/coin/1918-10c/images/4917',\n",
       " 'https://www.pcgs.com/coinfacts/coin/1918-D-10c/images/4918',\n",
       " 'https://www.pcgs.com/coinfacts/coin/1918-D-10c/images/4919',\n",
       " 'https://www.pcgs.com/coinfacts/coin/1918-S-10c/images/4920',\n",
       " 'https://www.pcgs.com/coinfacts/coin/1918-S-10c/images/4921',\n",
       " 'https://www.pcgs.com/coinfacts/coin/1919-10c/images/4922',\n",
       " 'https://www.pcgs.com/coinfacts/coin/1919-10c/images/4923',\n",
       " 'https://www.pcgs.com/coinfacts/coin/1919-D-10c/images/4924',\n",
       " 'https://www.pcgs.com/coinfacts/coin/1919-D-10c/images/4925',\n",
       " 'https://www.pcgs.com/coinfacts/coin/1919-S-10c/images/4926',\n",
       " 'https://www.pcgs.com/coinfacts/coin/1919-S-10c/images/4927',\n",
       " 'https://www.pcgs.com/coinfacts/coin/1920-10c/images/4928',\n",
       " 'https://www.pcgs.com/coinfacts/coin/1920-10c/images/4929',\n",
       " 'https://www.pcgs.com/coinfacts/coin/1920-D-10c/images/4930',\n",
       " 'https://www.pcgs.com/coinfacts/coin/1920-D-10c/images/4931',\n",
       " 'https://www.pcgs.com/coinfacts/coin/1920-S-10c/images/4932',\n",
       " 'https://www.pcgs.com/coinfacts/coin/1920-S-10c/images/4933',\n",
       " 'https://www.pcgs.com/coinfacts/coin/1921-10c/images/4934',\n",
       " 'https://www.pcgs.com/coinfacts/coin/1921-10c/images/4935',\n",
       " 'https://www.pcgs.com/coinfacts/coin/1921-D-10c/images/4936',\n",
       " 'https://www.pcgs.com/coinfacts/coin/1921-D-10c/images/4937',\n",
       " 'https://www.pcgs.com/coinfacts/coin/1923-10c/images/4938',\n",
       " 'https://www.pcgs.com/coinfacts/coin/1923-10c/images/4939',\n",
       " 'https://www.pcgs.com/coinfacts/coin/1923-S-10c/images/4940',\n",
       " 'https://www.pcgs.com/coinfacts/coin/1923-S-10c/images/4941',\n",
       " 'https://www.pcgs.com/coinfacts/coin/1924-10c/images/4942',\n",
       " 'https://www.pcgs.com/coinfacts/coin/1924-10c/images/4943',\n",
       " 'https://www.pcgs.com/coinfacts/coin/1924-D-10c/images/4944',\n",
       " 'https://www.pcgs.com/coinfacts/coin/1924-D-10c/images/4945',\n",
       " 'https://www.pcgs.com/coinfacts/coin/1924-S-10c/images/4946',\n",
       " 'https://www.pcgs.com/coinfacts/coin/1924-S-10c/images/4947',\n",
       " 'https://www.pcgs.com/coinfacts/coin/1925-10c/images/4948',\n",
       " 'https://www.pcgs.com/coinfacts/coin/1925-10c/images/4949',\n",
       " 'https://www.pcgs.com/coinfacts/coin/1925-D-10c/images/4950',\n",
       " 'https://www.pcgs.com/coinfacts/coin/1925-D-10c/images/4951',\n",
       " 'https://www.pcgs.com/coinfacts/coin/1925-S-10c/images/4952',\n",
       " 'https://www.pcgs.com/coinfacts/coin/1925-S-10c/images/4953',\n",
       " 'https://www.pcgs.com/coinfacts/coin/1926-10c/images/4954',\n",
       " 'https://www.pcgs.com/coinfacts/coin/1926-10c/images/4955',\n",
       " 'https://www.pcgs.com/coinfacts/coin/1926-D-10c/images/4956',\n",
       " 'https://www.pcgs.com/coinfacts/coin/1926-D-10c/images/4957',\n",
       " 'https://www.pcgs.com/coinfacts/coin/1926-S-10c/images/4958',\n",
       " 'https://www.pcgs.com/coinfacts/coin/1926-S-10c/images/4959',\n",
       " 'https://www.pcgs.com/coinfacts/coin/1927-10c/images/4960',\n",
       " 'https://www.pcgs.com/coinfacts/coin/1927-10c/images/4961',\n",
       " 'https://www.pcgs.com/coinfacts/coin/1927-D-10c/images/4962',\n",
       " 'https://www.pcgs.com/coinfacts/coin/1927-D-10c/images/4963',\n",
       " 'https://www.pcgs.com/coinfacts/coin/1927-S-10c/images/4964',\n",
       " 'https://www.pcgs.com/coinfacts/coin/1927-S-10c/images/4965',\n",
       " 'https://www.pcgs.com/coinfacts/coin/1928-10c/images/4966',\n",
       " 'https://www.pcgs.com/coinfacts/coin/1928-10c/images/4967',\n",
       " 'https://www.pcgs.com/coinfacts/coin/1928-D-10c/images/4968',\n",
       " 'https://www.pcgs.com/coinfacts/coin/1928-D-10c/images/4969',\n",
       " 'https://www.pcgs.com/coinfacts/coin/1928-S-10c/images/4970',\n",
       " 'https://www.pcgs.com/coinfacts/coin/1928-S-10c/images/4971',\n",
       " 'https://www.pcgs.com/coinfacts/coin/1929-10c/images/4972',\n",
       " 'https://www.pcgs.com/coinfacts/coin/1929-10c/images/4973',\n",
       " 'https://www.pcgs.com/coinfacts/coin/1929-D-10c/images/4974',\n",
       " 'https://www.pcgs.com/coinfacts/coin/1929-D-10c/images/4975',\n",
       " 'https://www.pcgs.com/coinfacts/coin/1929-S-10c/images/4976',\n",
       " 'https://www.pcgs.com/coinfacts/coin/1929-S-10c/images/4977',\n",
       " 'https://www.pcgs.com/coinfacts/coin/1930-10c/images/4978',\n",
       " 'https://www.pcgs.com/coinfacts/coin/1930-10c/images/4979',\n",
       " 'https://www.pcgs.com/coinfacts/coin/1930-S-10c/images/4980',\n",
       " 'https://www.pcgs.com/coinfacts/coin/1930-S-10c/images/4981',\n",
       " 'https://www.pcgs.com/coinfacts/coin/1931-10c/images/4982',\n",
       " 'https://www.pcgs.com/coinfacts/coin/1931-10c/images/4983',\n",
       " 'https://www.pcgs.com/coinfacts/coin/1931-D-10c/images/4984',\n",
       " 'https://www.pcgs.com/coinfacts/coin/1931-D-10c/images/4985',\n",
       " 'https://www.pcgs.com/coinfacts/coin/1931-S-10c/images/4986',\n",
       " 'https://www.pcgs.com/coinfacts/coin/1931-S-10c/images/4987',\n",
       " 'https://www.pcgs.com/coinfacts/coin/1934-10c/images/4988',\n",
       " 'https://www.pcgs.com/coinfacts/coin/1934-10c/images/4989',\n",
       " 'https://www.pcgs.com/coinfacts/coin/1934-D-10c/images/4990',\n",
       " 'https://www.pcgs.com/coinfacts/coin/1934-D-10c/images/4991',\n",
       " 'https://www.pcgs.com/coinfacts/coin/1935-10c/images/4992',\n",
       " 'https://www.pcgs.com/coinfacts/coin/1935-10c/images/4993',\n",
       " 'https://www.pcgs.com/coinfacts/coin/1935-D-10c/images/4994',\n",
       " 'https://www.pcgs.com/coinfacts/coin/1935-D-10c/images/4995',\n",
       " 'https://www.pcgs.com/coinfacts/coin/1935-S-10c/images/4996',\n",
       " 'https://www.pcgs.com/coinfacts/coin/1935-S-10c/images/4997',\n",
       " 'https://www.pcgs.com/coinfacts/coin/1936-10c/images/4998',\n",
       " 'https://www.pcgs.com/coinfacts/coin/1936-10c/images/4999',\n",
       " 'https://www.pcgs.com/coinfacts/coin/1936-D-10c/images/5000',\n",
       " 'https://www.pcgs.com/coinfacts/coin/1936-D-10c/images/5001',\n",
       " 'https://www.pcgs.com/coinfacts/coin/1936-S-10c/images/5002',\n",
       " 'https://www.pcgs.com/coinfacts/coin/1936-S-10c/images/5003',\n",
       " 'https://www.pcgs.com/coinfacts/coin/1937-10c/images/5004',\n",
       " 'https://www.pcgs.com/coinfacts/coin/1937-10c/images/5005',\n",
       " 'https://www.pcgs.com/coinfacts/coin/1937-D-10c/images/5006',\n",
       " 'https://www.pcgs.com/coinfacts/coin/1937-D-10c/images/5007',\n",
       " 'https://www.pcgs.com/coinfacts/coin/1937-S-10c/images/5008',\n",
       " 'https://www.pcgs.com/coinfacts/coin/1937-S-10c/images/5009',\n",
       " 'https://www.pcgs.com/coinfacts/coin/1938-10c/images/5010',\n",
       " 'https://www.pcgs.com/coinfacts/coin/1938-10c/images/5011',\n",
       " 'https://www.pcgs.com/coinfacts/coin/1938-D-10c/images/5012',\n",
       " 'https://www.pcgs.com/coinfacts/coin/1938-D-10c/images/5013',\n",
       " 'https://www.pcgs.com/coinfacts/coin/1938-S-10c/images/5014',\n",
       " 'https://www.pcgs.com/coinfacts/coin/1938-S-10c/images/5015',\n",
       " 'https://www.pcgs.com/coinfacts/coin/1939-10c/images/5016',\n",
       " 'https://www.pcgs.com/coinfacts/coin/1939-10c/images/5017',\n",
       " 'https://www.pcgs.com/coinfacts/coin/1939-D-10c/images/5018',\n",
       " 'https://www.pcgs.com/coinfacts/coin/1939-D-10c/images/5019',\n",
       " 'https://www.pcgs.com/coinfacts/coin/1939-S-10c/images/5020',\n",
       " 'https://www.pcgs.com/coinfacts/coin/1939-S-10c/images/5021',\n",
       " 'https://www.pcgs.com/coinfacts/coin/1940-10c/images/5022',\n",
       " 'https://www.pcgs.com/coinfacts/coin/1940-10c/images/5023',\n",
       " 'https://www.pcgs.com/coinfacts/coin/1940-D-10c/images/5024',\n",
       " 'https://www.pcgs.com/coinfacts/coin/1940-D-10c/images/5025',\n",
       " 'https://www.pcgs.com/coinfacts/coin/1940-D-10c/images/85025',\n",
       " 'https://www.pcgs.com/coinfacts/coin/1940-S-10c/images/5026',\n",
       " 'https://www.pcgs.com/coinfacts/coin/1940-S-10c/images/5027',\n",
       " 'https://www.pcgs.com/coinfacts/coin/1941-10c/images/5028',\n",
       " 'https://www.pcgs.com/coinfacts/coin/1941-10c/images/5029',\n",
       " 'https://www.pcgs.com/coinfacts/coin/1941-D-10c/images/5030',\n",
       " 'https://www.pcgs.com/coinfacts/coin/1941-D-10c/images/5031',\n",
       " 'https://www.pcgs.com/coinfacts/coin/1941-S-10c/images/5032',\n",
       " 'https://www.pcgs.com/coinfacts/coin/1941-S-10c/images/794786',\n",
       " 'https://www.pcgs.com/coinfacts/coin/1941-S-10c/images/5033',\n",
       " 'https://www.pcgs.com/coinfacts/coin/1942-10c/images/5034',\n",
       " 'https://www.pcgs.com/coinfacts/coin/1942-10c/images/5035',\n",
       " 'https://www.pcgs.com/coinfacts/coin/1942/1-10c/images/5036',\n",
       " 'https://www.pcgs.com/coinfacts/coin/1942/1-10c/images/5037',\n",
       " 'https://www.pcgs.com/coinfacts/coin/1942-D-10c/images/5038',\n",
       " 'https://www.pcgs.com/coinfacts/coin/1942-D-10c/images/5039',\n",
       " 'https://www.pcgs.com/coinfacts/coin/1942/1-D-10c/images/5040',\n",
       " 'https://www.pcgs.com/coinfacts/coin/1942/1-D-10c/images/5041',\n",
       " 'https://www.pcgs.com/coinfacts/coin/1942-S-10c/images/5042',\n",
       " 'https://www.pcgs.com/coinfacts/coin/1942-S-10c/images/5043',\n",
       " 'https://www.pcgs.com/coinfacts/coin/1943-10c/images/5044',\n",
       " 'https://www.pcgs.com/coinfacts/coin/1943-10c/images/5045',\n",
       " 'https://www.pcgs.com/coinfacts/coin/1943-D-10c/images/5046',\n",
       " 'https://www.pcgs.com/coinfacts/coin/1943-D-10c/images/5047',\n",
       " 'https://www.pcgs.com/coinfacts/coin/1943-S-10c/images/5048',\n",
       " 'https://www.pcgs.com/coinfacts/coin/1943-S-10c/images/5049',\n",
       " 'https://www.pcgs.com/coinfacts/coin/1944-10c/images/5050',\n",
       " 'https://www.pcgs.com/coinfacts/coin/1944-10c/images/5051',\n",
       " 'https://www.pcgs.com/coinfacts/coin/1944-D-10c/images/5052',\n",
       " 'https://www.pcgs.com/coinfacts/coin/1944-D-10c/images/5053',\n",
       " 'https://www.pcgs.com/coinfacts/coin/1944-S-10c/images/5054',\n",
       " 'https://www.pcgs.com/coinfacts/coin/1944-S-10c/images/5055',\n",
       " 'https://www.pcgs.com/coinfacts/coin/1945-10c/images/5056',\n",
       " 'https://www.pcgs.com/coinfacts/coin/1945-10c/images/5057',\n",
       " 'https://www.pcgs.com/coinfacts/coin/1945-D-10c/images/5058',\n",
       " 'https://www.pcgs.com/coinfacts/coin/1945-D-10c/images/5059',\n",
       " 'https://www.pcgs.com/coinfacts/coin/1945-S-10c/images/5060',\n",
       " 'https://www.pcgs.com/coinfacts/coin/1945-S-10c/images/5061']"
      ]
     },
     "execution_count": 33,
     "metadata": {},
     "output_type": "execute_result"
    }
   ],
   "source": [
    "urls = []\n",
    "fixed_url = 'https://www.pcgs.com/coinfacts/coin/'\n",
    "fixed_url_ending = '-10c/images/'\n",
    "\n",
    "for id in df.index:\n",
    "  urls.append(fixed_url + df.loc[id,'description'] + fixed_url_ending + id)\n",
    "\n",
    "urls"
   ]
  },
  {
   "cell_type": "code",
   "execution_count": null,
   "id": "7ea11ed4",
   "metadata": {},
   "outputs": [],
   "source": []
  },
  {
   "cell_type": "code",
   "execution_count": null,
   "id": "3222e9e4",
   "metadata": {},
   "outputs": [],
   "source": []
  }
 ],
 "metadata": {
  "kernelspec": {
   "display_name": "Python 3 (ipykernel)",
   "language": "python",
   "name": "python3"
  },
  "language_info": {
   "codemirror_mode": {
    "name": "ipython",
    "version": 3
   },
   "file_extension": ".py",
   "mimetype": "text/x-python",
   "name": "python",
   "nbconvert_exporter": "python",
   "pygments_lexer": "ipython3",
   "version": "3.10.6"
  }
 },
 "nbformat": 4,
 "nbformat_minor": 5
}
