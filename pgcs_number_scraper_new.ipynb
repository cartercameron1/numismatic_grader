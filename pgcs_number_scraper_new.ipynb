{
 "cells": [
  {
   "cell_type": "markdown",
   "id": "c37e2d84",
   "metadata": {},
   "source": [
    "# PGCS Number Scraper"
   ]
  },
  {
   "cell_type": "markdown",
   "id": "38ab5899",
   "metadata": {},
   "source": [
    "This notebook is designed to obtain all the neccesary information to complete create an image scraper."
   ]
  },
  {
   "cell_type": "markdown",
   "id": "1f273038",
   "metadata": {},
   "source": [
    "## Get HTML"
   ]
  },
  {
   "cell_type": "markdown",
   "id": "ac2dae00",
   "metadata": {},
   "source": [
    "Get the HTML from the PCGS website."
   ]
  },
  {
   "cell_type": "markdown",
   "id": "dad188d7",
   "metadata": {},
   "source": [
    "### Imports"
   ]
  },
  {
   "cell_type": "markdown",
   "id": "8a553907",
   "metadata": {},
   "source": [
    "Import `cloudscraper` for scraping. Import `pandas` for data manipulation."
   ]
  },
  {
   "cell_type": "code",
   "execution_count": 114,
   "id": "f7208f24",
   "metadata": {},
   "outputs": [],
   "source": [
    "from bs4 import BeautifulSoup\n",
    "import cloudscraper\n",
    "import pandas as pd\n",
    "import numpy as np\n",
    "import requests\n",
    "import time\n",
    "import matplotlib.pyplot as plt\n",
    "\n"
   ]
  },
  {
   "cell_type": "markdown",
   "id": "61ba717f",
   "metadata": {},
   "source": [
    "### Headers and scraper"
   ]
  },
  {
   "cell_type": "code",
   "execution_count": 7,
   "id": "50433676",
   "metadata": {},
   "outputs": [
    {
     "name": "stdout",
     "output_type": "stream",
     "text": [
      "Status code: 200\n"
     ]
    }
   ],
   "source": [
    "# Establish connectection and pull HTML\n",
    "header = {'User-Agent': 'Mozilla/5.0 (Windows NT 10.0; WOW64; rv:70.0) Gecko/20100101 Firefox/70.0',\n",
    "         'referer': 'https://www.google.com/',\n",
    "         'Upgrade-Insecure-Requests': '1'}\n",
    "url = 'https://www.pcgs.com/prices/detail/mercury-dime/703/most-active/ms?pn=1&ps=-1'\n",
    "scraper = cloudscraper.create_scraper()\n",
    "status = scraper.get(url)\n",
    "html = status.text \n",
    "\n",
    "print('Status code: ' + str(status.status_code))"
   ]
  },
  {
   "cell_type": "markdown",
   "id": "d0c79d4f",
   "metadata": {},
   "source": [
    "### Get table from PCGS"
   ]
  },
  {
   "cell_type": "markdown",
   "id": "48d323db",
   "metadata": {},
   "source": [
    "For now, we don't need the description as we originally thought. Might delete the manuel indexings later."
   ]
  },
  {
   "cell_type": "code",
   "execution_count": 97,
   "id": "4ded0a3e",
   "metadata": {},
   "outputs": [
    {
     "data": {
      "text/html": [
       "<div>\n",
       "<style scoped>\n",
       "    .dataframe tbody tr th:only-of-type {\n",
       "        vertical-align: middle;\n",
       "    }\n",
       "\n",
       "    .dataframe tbody tr th {\n",
       "        vertical-align: top;\n",
       "    }\n",
       "\n",
       "    .dataframe thead th {\n",
       "        text-align: right;\n",
       "    }\n",
       "</style>\n",
       "<table border=\"1\" class=\"dataframe\">\n",
       "  <thead>\n",
       "    <tr style=\"text-align: right;\">\n",
       "      <th></th>\n",
       "      <th>description</th>\n",
       "    </tr>\n",
       "    <tr>\n",
       "      <th>id</th>\n",
       "      <th></th>\n",
       "    </tr>\n",
       "  </thead>\n",
       "  <tbody>\n",
       "    <tr>\n",
       "      <th>4904</th>\n",
       "      <td>1916</td>\n",
       "    </tr>\n",
       "    <tr>\n",
       "      <th>4905</th>\n",
       "      <td>1916</td>\n",
       "    </tr>\n",
       "    <tr>\n",
       "      <th>4906</th>\n",
       "      <td>1916-D</td>\n",
       "    </tr>\n",
       "    <tr>\n",
       "      <th>4907</th>\n",
       "      <td>1916-D</td>\n",
       "    </tr>\n",
       "    <tr>\n",
       "      <th>4908</th>\n",
       "      <td>1916-S</td>\n",
       "    </tr>\n",
       "    <tr>\n",
       "      <th>...</th>\n",
       "      <td>...</td>\n",
       "    </tr>\n",
       "    <tr>\n",
       "      <th>5057</th>\n",
       "      <td>1945</td>\n",
       "    </tr>\n",
       "    <tr>\n",
       "      <th>5058</th>\n",
       "      <td>1945-D</td>\n",
       "    </tr>\n",
       "    <tr>\n",
       "      <th>5059</th>\n",
       "      <td>1945-D</td>\n",
       "    </tr>\n",
       "    <tr>\n",
       "      <th>5060</th>\n",
       "      <td>1945-S</td>\n",
       "    </tr>\n",
       "    <tr>\n",
       "      <th>5061</th>\n",
       "      <td>1945-S</td>\n",
       "    </tr>\n",
       "  </tbody>\n",
       "</table>\n",
       "<p>160 rows × 1 columns</p>\n",
       "</div>"
      ],
      "text/plain": [
       "     description\n",
       "id              \n",
       "4904        1916\n",
       "4905        1916\n",
       "4906      1916-D\n",
       "4907      1916-D\n",
       "4908      1916-S\n",
       "...          ...\n",
       "5057        1945\n",
       "5058      1945-D\n",
       "5059      1945-D\n",
       "5060      1945-S\n",
       "5061      1945-S\n",
       "\n",
       "[160 rows x 1 columns]"
      ]
     },
     "execution_count": 97,
     "metadata": {},
     "output_type": "execute_result"
    }
   ],
   "source": [
    "# Creates and cleans the table\n",
    "df = pd.read_html(html)\n",
    "df = pd.DataFrame(df[0],dtype=object)\n",
    "df = df.drop([0,1])\n",
    "df = df.rename(columns=df.iloc[0])\n",
    "df = df[['PCGS #','Description']].copy()\n",
    "df = df.rename(columns={'PCGS #': 'id', 'Description': 'description'})\n",
    "df = df.dropna()\n",
    "df = df.reset_index(drop=True)\n",
    "\n",
    "# Manual indexing check if error occurs, pcgs might change something\n",
    "df = df.drop(range(0,3))\n",
    "df = df.drop(range(163,166))\n",
    "df = df.set_index('id')\n",
    "df['description'] = df['description'].str.replace('Shop with Affiliates ', '')\n",
    "df['description'] = df['description'].str.replace(' Mercury', '')\n",
    "df['description'] = df['description'].str.replace(' ', '')\n",
    "\n",
    "# Display table\n",
    "df"
   ]
  },
  {
   "cell_type": "markdown",
   "id": "32836d5c",
   "metadata": {},
   "source": [
    "Store the data to a CSV for later use"
   ]
  },
  {
   "cell_type": "code",
   "execution_count": 9,
   "id": "258b6396",
   "metadata": {},
   "outputs": [
    {
     "name": "stdout",
     "output_type": "stream",
     "text": [
      "See assets folder for output\n"
     ]
    }
   ],
   "source": [
    "# Outputs the DataFrame to a CSV\n",
    "location = 'assets/pgcs_number_output.csv'\n",
    "df.to_csv(location)\n",
    "\n",
    "print('See assets folder for output')"
   ]
  },
  {
   "cell_type": "markdown",
   "id": "c414a86c",
   "metadata": {},
   "source": [
    "### Generate URLs from DataFrame"
   ]
  },
  {
   "cell_type": "code",
   "execution_count": 10,
   "id": "04a7f83e",
   "metadata": {},
   "outputs": [
    {
     "data": {
      "text/plain": [
       "['https://www.pcgs.com/coinfacts/coin/1916-10c/images/4904',\n",
       " 'https://www.pcgs.com/coinfacts/coin/1916-10c/images/4905',\n",
       " 'https://www.pcgs.com/coinfacts/coin/1916-D-10c/images/4906',\n",
       " 'https://www.pcgs.com/coinfacts/coin/1916-D-10c/images/4907',\n",
       " 'https://www.pcgs.com/coinfacts/coin/1916-S-10c/images/4908',\n",
       " 'https://www.pcgs.com/coinfacts/coin/1916-S-10c/images/4909',\n",
       " 'https://www.pcgs.com/coinfacts/coin/1917-10c/images/4910',\n",
       " 'https://www.pcgs.com/coinfacts/coin/1917-10c/images/4911',\n",
       " 'https://www.pcgs.com/coinfacts/coin/1917-D-10c/images/4912',\n",
       " 'https://www.pcgs.com/coinfacts/coin/1917-D-10c/images/4913',\n",
       " 'https://www.pcgs.com/coinfacts/coin/1917-S-10c/images/4914',\n",
       " 'https://www.pcgs.com/coinfacts/coin/1917-S-10c/images/4915',\n",
       " 'https://www.pcgs.com/coinfacts/coin/1918-10c/images/4916',\n",
       " 'https://www.pcgs.com/coinfacts/coin/1918-10c/images/4917',\n",
       " 'https://www.pcgs.com/coinfacts/coin/1918-D-10c/images/4918',\n",
       " 'https://www.pcgs.com/coinfacts/coin/1918-D-10c/images/4919',\n",
       " 'https://www.pcgs.com/coinfacts/coin/1918-S-10c/images/4920',\n",
       " 'https://www.pcgs.com/coinfacts/coin/1918-S-10c/images/4921',\n",
       " 'https://www.pcgs.com/coinfacts/coin/1919-10c/images/4922',\n",
       " 'https://www.pcgs.com/coinfacts/coin/1919-10c/images/4923',\n",
       " 'https://www.pcgs.com/coinfacts/coin/1919-D-10c/images/4924',\n",
       " 'https://www.pcgs.com/coinfacts/coin/1919-D-10c/images/4925',\n",
       " 'https://www.pcgs.com/coinfacts/coin/1919-S-10c/images/4926',\n",
       " 'https://www.pcgs.com/coinfacts/coin/1919-S-10c/images/4927',\n",
       " 'https://www.pcgs.com/coinfacts/coin/1920-10c/images/4928',\n",
       " 'https://www.pcgs.com/coinfacts/coin/1920-10c/images/4929',\n",
       " 'https://www.pcgs.com/coinfacts/coin/1920-D-10c/images/4930',\n",
       " 'https://www.pcgs.com/coinfacts/coin/1920-D-10c/images/4931',\n",
       " 'https://www.pcgs.com/coinfacts/coin/1920-S-10c/images/4932',\n",
       " 'https://www.pcgs.com/coinfacts/coin/1920-S-10c/images/4933',\n",
       " 'https://www.pcgs.com/coinfacts/coin/1921-10c/images/4934',\n",
       " 'https://www.pcgs.com/coinfacts/coin/1921-10c/images/4935',\n",
       " 'https://www.pcgs.com/coinfacts/coin/1921-D-10c/images/4936',\n",
       " 'https://www.pcgs.com/coinfacts/coin/1921-D-10c/images/4937',\n",
       " 'https://www.pcgs.com/coinfacts/coin/1923-10c/images/4938',\n",
       " 'https://www.pcgs.com/coinfacts/coin/1923-10c/images/4939',\n",
       " 'https://www.pcgs.com/coinfacts/coin/1923-S-10c/images/4940',\n",
       " 'https://www.pcgs.com/coinfacts/coin/1923-S-10c/images/4941',\n",
       " 'https://www.pcgs.com/coinfacts/coin/1924-10c/images/4942',\n",
       " 'https://www.pcgs.com/coinfacts/coin/1924-10c/images/4943',\n",
       " 'https://www.pcgs.com/coinfacts/coin/1924-D-10c/images/4944',\n",
       " 'https://www.pcgs.com/coinfacts/coin/1924-D-10c/images/4945',\n",
       " 'https://www.pcgs.com/coinfacts/coin/1924-S-10c/images/4946',\n",
       " 'https://www.pcgs.com/coinfacts/coin/1924-S-10c/images/4947',\n",
       " 'https://www.pcgs.com/coinfacts/coin/1925-10c/images/4948',\n",
       " 'https://www.pcgs.com/coinfacts/coin/1925-10c/images/4949',\n",
       " 'https://www.pcgs.com/coinfacts/coin/1925-D-10c/images/4950',\n",
       " 'https://www.pcgs.com/coinfacts/coin/1925-D-10c/images/4951',\n",
       " 'https://www.pcgs.com/coinfacts/coin/1925-S-10c/images/4952',\n",
       " 'https://www.pcgs.com/coinfacts/coin/1925-S-10c/images/4953',\n",
       " 'https://www.pcgs.com/coinfacts/coin/1926-10c/images/4954',\n",
       " 'https://www.pcgs.com/coinfacts/coin/1926-10c/images/4955',\n",
       " 'https://www.pcgs.com/coinfacts/coin/1926-D-10c/images/4956',\n",
       " 'https://www.pcgs.com/coinfacts/coin/1926-D-10c/images/4957',\n",
       " 'https://www.pcgs.com/coinfacts/coin/1926-S-10c/images/4958',\n",
       " 'https://www.pcgs.com/coinfacts/coin/1926-S-10c/images/4959',\n",
       " 'https://www.pcgs.com/coinfacts/coin/1927-10c/images/4960',\n",
       " 'https://www.pcgs.com/coinfacts/coin/1927-10c/images/4961',\n",
       " 'https://www.pcgs.com/coinfacts/coin/1927-D-10c/images/4962',\n",
       " 'https://www.pcgs.com/coinfacts/coin/1927-D-10c/images/4963',\n",
       " 'https://www.pcgs.com/coinfacts/coin/1927-S-10c/images/4964',\n",
       " 'https://www.pcgs.com/coinfacts/coin/1927-S-10c/images/4965',\n",
       " 'https://www.pcgs.com/coinfacts/coin/1928-10c/images/4966',\n",
       " 'https://www.pcgs.com/coinfacts/coin/1928-10c/images/4967',\n",
       " 'https://www.pcgs.com/coinfacts/coin/1928-D-10c/images/4968',\n",
       " 'https://www.pcgs.com/coinfacts/coin/1928-D-10c/images/4969',\n",
       " 'https://www.pcgs.com/coinfacts/coin/1928-S-10c/images/4970',\n",
       " 'https://www.pcgs.com/coinfacts/coin/1928-S-10c/images/4971',\n",
       " 'https://www.pcgs.com/coinfacts/coin/1929-10c/images/4972',\n",
       " 'https://www.pcgs.com/coinfacts/coin/1929-10c/images/4973',\n",
       " 'https://www.pcgs.com/coinfacts/coin/1929-D-10c/images/4974',\n",
       " 'https://www.pcgs.com/coinfacts/coin/1929-D-10c/images/4975',\n",
       " 'https://www.pcgs.com/coinfacts/coin/1929-S-10c/images/4976',\n",
       " 'https://www.pcgs.com/coinfacts/coin/1929-S-10c/images/4977',\n",
       " 'https://www.pcgs.com/coinfacts/coin/1930-10c/images/4978',\n",
       " 'https://www.pcgs.com/coinfacts/coin/1930-10c/images/4979',\n",
       " 'https://www.pcgs.com/coinfacts/coin/1930-S-10c/images/4980',\n",
       " 'https://www.pcgs.com/coinfacts/coin/1930-S-10c/images/4981',\n",
       " 'https://www.pcgs.com/coinfacts/coin/1931-10c/images/4982',\n",
       " 'https://www.pcgs.com/coinfacts/coin/1931-10c/images/4983',\n",
       " 'https://www.pcgs.com/coinfacts/coin/1931-D-10c/images/4984',\n",
       " 'https://www.pcgs.com/coinfacts/coin/1931-D-10c/images/4985',\n",
       " 'https://www.pcgs.com/coinfacts/coin/1931-S-10c/images/4986',\n",
       " 'https://www.pcgs.com/coinfacts/coin/1931-S-10c/images/4987',\n",
       " 'https://www.pcgs.com/coinfacts/coin/1934-10c/images/4988',\n",
       " 'https://www.pcgs.com/coinfacts/coin/1934-10c/images/4989',\n",
       " 'https://www.pcgs.com/coinfacts/coin/1934-D-10c/images/4990',\n",
       " 'https://www.pcgs.com/coinfacts/coin/1934-D-10c/images/4991',\n",
       " 'https://www.pcgs.com/coinfacts/coin/1935-10c/images/4992',\n",
       " 'https://www.pcgs.com/coinfacts/coin/1935-10c/images/4993',\n",
       " 'https://www.pcgs.com/coinfacts/coin/1935-D-10c/images/4994',\n",
       " 'https://www.pcgs.com/coinfacts/coin/1935-D-10c/images/4995',\n",
       " 'https://www.pcgs.com/coinfacts/coin/1935-S-10c/images/4996',\n",
       " 'https://www.pcgs.com/coinfacts/coin/1935-S-10c/images/4997',\n",
       " 'https://www.pcgs.com/coinfacts/coin/1936-10c/images/4998',\n",
       " 'https://www.pcgs.com/coinfacts/coin/1936-10c/images/4999',\n",
       " 'https://www.pcgs.com/coinfacts/coin/1936-D-10c/images/5000',\n",
       " 'https://www.pcgs.com/coinfacts/coin/1936-D-10c/images/5001',\n",
       " 'https://www.pcgs.com/coinfacts/coin/1936-S-10c/images/5002',\n",
       " 'https://www.pcgs.com/coinfacts/coin/1936-S-10c/images/5003',\n",
       " 'https://www.pcgs.com/coinfacts/coin/1937-10c/images/5004',\n",
       " 'https://www.pcgs.com/coinfacts/coin/1937-10c/images/5005',\n",
       " 'https://www.pcgs.com/coinfacts/coin/1937-D-10c/images/5006',\n",
       " 'https://www.pcgs.com/coinfacts/coin/1937-D-10c/images/5007',\n",
       " 'https://www.pcgs.com/coinfacts/coin/1937-S-10c/images/5008',\n",
       " 'https://www.pcgs.com/coinfacts/coin/1937-S-10c/images/5009',\n",
       " 'https://www.pcgs.com/coinfacts/coin/1938-10c/images/5010',\n",
       " 'https://www.pcgs.com/coinfacts/coin/1938-10c/images/5011',\n",
       " 'https://www.pcgs.com/coinfacts/coin/1938-D-10c/images/5012',\n",
       " 'https://www.pcgs.com/coinfacts/coin/1938-D-10c/images/5013',\n",
       " 'https://www.pcgs.com/coinfacts/coin/1938-S-10c/images/5014',\n",
       " 'https://www.pcgs.com/coinfacts/coin/1938-S-10c/images/5015',\n",
       " 'https://www.pcgs.com/coinfacts/coin/1939-10c/images/5016',\n",
       " 'https://www.pcgs.com/coinfacts/coin/1939-10c/images/5017',\n",
       " 'https://www.pcgs.com/coinfacts/coin/1939-D-10c/images/5018',\n",
       " 'https://www.pcgs.com/coinfacts/coin/1939-D-10c/images/5019',\n",
       " 'https://www.pcgs.com/coinfacts/coin/1939-S-10c/images/5020',\n",
       " 'https://www.pcgs.com/coinfacts/coin/1939-S-10c/images/5021',\n",
       " 'https://www.pcgs.com/coinfacts/coin/1940-10c/images/5022',\n",
       " 'https://www.pcgs.com/coinfacts/coin/1940-10c/images/5023',\n",
       " 'https://www.pcgs.com/coinfacts/coin/1940-D-10c/images/5024',\n",
       " 'https://www.pcgs.com/coinfacts/coin/1940-D-10c/images/5025',\n",
       " 'https://www.pcgs.com/coinfacts/coin/1940-D-10c/images/85025',\n",
       " 'https://www.pcgs.com/coinfacts/coin/1940-S-10c/images/5026',\n",
       " 'https://www.pcgs.com/coinfacts/coin/1940-S-10c/images/5027',\n",
       " 'https://www.pcgs.com/coinfacts/coin/1941-10c/images/5028',\n",
       " 'https://www.pcgs.com/coinfacts/coin/1941-10c/images/5029',\n",
       " 'https://www.pcgs.com/coinfacts/coin/1941-D-10c/images/5030',\n",
       " 'https://www.pcgs.com/coinfacts/coin/1941-D-10c/images/5031',\n",
       " 'https://www.pcgs.com/coinfacts/coin/1941-S-10c/images/5032',\n",
       " 'https://www.pcgs.com/coinfacts/coin/1941-S-10c/images/794786',\n",
       " 'https://www.pcgs.com/coinfacts/coin/1941-S-10c/images/5033',\n",
       " 'https://www.pcgs.com/coinfacts/coin/1942-10c/images/5034',\n",
       " 'https://www.pcgs.com/coinfacts/coin/1942-10c/images/5035',\n",
       " 'https://www.pcgs.com/coinfacts/coin/1942/1-10c/images/5036',\n",
       " 'https://www.pcgs.com/coinfacts/coin/1942/1-10c/images/5037',\n",
       " 'https://www.pcgs.com/coinfacts/coin/1942-D-10c/images/5038',\n",
       " 'https://www.pcgs.com/coinfacts/coin/1942-D-10c/images/5039',\n",
       " 'https://www.pcgs.com/coinfacts/coin/1942/1-D-10c/images/5040',\n",
       " 'https://www.pcgs.com/coinfacts/coin/1942/1-D-10c/images/5041',\n",
       " 'https://www.pcgs.com/coinfacts/coin/1942-S-10c/images/5042',\n",
       " 'https://www.pcgs.com/coinfacts/coin/1942-S-10c/images/5043',\n",
       " 'https://www.pcgs.com/coinfacts/coin/1943-10c/images/5044',\n",
       " 'https://www.pcgs.com/coinfacts/coin/1943-10c/images/5045',\n",
       " 'https://www.pcgs.com/coinfacts/coin/1943-D-10c/images/5046',\n",
       " 'https://www.pcgs.com/coinfacts/coin/1943-D-10c/images/5047',\n",
       " 'https://www.pcgs.com/coinfacts/coin/1943-S-10c/images/5048',\n",
       " 'https://www.pcgs.com/coinfacts/coin/1943-S-10c/images/5049',\n",
       " 'https://www.pcgs.com/coinfacts/coin/1944-10c/images/5050',\n",
       " 'https://www.pcgs.com/coinfacts/coin/1944-10c/images/5051',\n",
       " 'https://www.pcgs.com/coinfacts/coin/1944-D-10c/images/5052',\n",
       " 'https://www.pcgs.com/coinfacts/coin/1944-D-10c/images/5053',\n",
       " 'https://www.pcgs.com/coinfacts/coin/1944-S-10c/images/5054',\n",
       " 'https://www.pcgs.com/coinfacts/coin/1944-S-10c/images/5055',\n",
       " 'https://www.pcgs.com/coinfacts/coin/1945-10c/images/5056',\n",
       " 'https://www.pcgs.com/coinfacts/coin/1945-10c/images/5057',\n",
       " 'https://www.pcgs.com/coinfacts/coin/1945-D-10c/images/5058',\n",
       " 'https://www.pcgs.com/coinfacts/coin/1945-D-10c/images/5059',\n",
       " 'https://www.pcgs.com/coinfacts/coin/1945-S-10c/images/5060',\n",
       " 'https://www.pcgs.com/coinfacts/coin/1945-S-10c/images/5061']"
      ]
     },
     "execution_count": 10,
     "metadata": {},
     "output_type": "execute_result"
    }
   ],
   "source": [
    "all_date_urls = []\n",
    "fixed_url = 'https://www.pcgs.com/coinfacts/coin/'\n",
    "fixed_url_ending = '-10c/images/'\n",
    "\n",
    "for id in df.index:\n",
    "  all_date_urls.append(fixed_url + df.loc[id,'description'] + fixed_url_ending + id)\n",
    "\n",
    "all_date_urls"
   ]
  },
  {
   "cell_type": "code",
   "execution_count": 22,
   "id": "4b8aa465",
   "metadata": {},
   "outputs": [],
   "source": [
    "#example of how to download images\n",
    "'''\n",
    "image = 'https://images.pcgs.com/CoinFacts/80811003_51807535_2200.jpg'\n",
    "\n",
    "test_scraper = cloudscraper.create_scraper()\n",
    "img_data = test_scraper.get(image).content\n",
    "#print(img_data.status_code)\n",
    "\n",
    "with open('assets/image_name.jpg', 'wb') as handler:\n",
    "    handler.write(img_data)\n",
    "    '''"
   ]
  },
  {
   "cell_type": "code",
   "execution_count": 111,
   "id": "15fd5ac0",
   "metadata": {},
   "outputs": [],
   "source": [
    "\n",
    "def download_image(_url,_grade):\n",
    "    image_scraper = cloudscraper.create_scraper()\n",
    "    img_data = image_scraper.get(_url).content\n",
    "    \n",
    "    with open('assets/graded_images/' + str(_grade) +'/'+ _url[-19:], 'wb') as handler:\n",
    "        handler.write(img_data)\n",
    "     \n",
    "    \n",
    "    print('downloaded: ' + _url + ' to '+ 'assets/graded_images/' + str(_grade) +'/' + _url)"
   ]
  },
  {
   "cell_type": "code",
   "execution_count": null,
   "id": "e8c7f0e0",
   "metadata": {},
   "outputs": [],
   "source": [
    "# downloader for old dataset\n",
    "'''\n",
    "def download_image(_url,_folder,_name):\n",
    "    image_scraper = cloudscraper.create_scraper()\n",
    "    img_data = image_scraper.get(_url).content\n",
    "    \n",
    "    with open('assets/image_dataset/' + str(_folder) +'/'+ _name, 'wb') as handler:\n",
    "        handler.write(img_data)\n",
    "     \n",
    "'''\n",
    "#    if not os.path.isfile('assets/image_dataset/' + str(_folder) +'/'+ _name):\n",
    "#        with open('assets/image_dataset/' + str(_folder) +'/'+ _name, 'wb') as handler:\n",
    "#           handler.write(img_data)\n",
    "'''       \n",
    "    print('downloaded: ' + _url + ' to '+ 'assets/image_dataset/' + str(_folder) +'/' + _name)\n",
    "    '''"
   ]
  },
  {
   "cell_type": "code",
   "execution_count": 12,
   "id": "dde9b95e",
   "metadata": {},
   "outputs": [],
   "source": [
    "def find_nth(haystack, needle, n):\n",
    "    start = haystack.find(needle)\n",
    "    while start >= 0 and n > 1:\n",
    "        start = haystack.find(needle, start+len(needle))\n",
    "        n -= 1\n",
    "    return start\n",
    "#see https://stackoverflow.com/questions/1883980/find-the-nth-occurrence-of-substring-in-a-string"
   ]
  },
  {
   "cell_type": "code",
   "execution_count": 31,
   "id": "2a74cbb1",
   "metadata": {},
   "outputs": [],
   "source": [
    "def generate_all_image_urls(URL):\n",
    "    scraper = cloudscraper.create_scraper()\n",
    "    raw_scrape = scraper.get(URL)\n",
    "    html = raw_scrape.text\n",
    "    image_list = []\n",
    "    \n",
    "    for x in range (html.count('https://images.pcgs.com/CoinFacts/')):\n",
    "\n",
    "        temp = html[find_nth(html,'https://images.pcgs.com/CoinFacts/', x):find_nth(html,'https://images.pcgs.com/CoinFacts/', x)+60]\n",
    "    \n",
    "        if temp[-1] != 'g':\n",
    "            temp += 'g'\n",
    "        image_list.append(temp)\n",
    "        #for x in image_list:\n",
    "            #print(x)\n",
    "            \n",
    "\n",
    "            \n",
    "    return list(set(image_list))\n",
    "    "
   ]
  },
  {
   "cell_type": "code",
   "execution_count": 99,
   "id": "fe816f41",
   "metadata": {},
   "outputs": [
    {
     "data": {
      "text/plain": [
       "['https://images.pcgs.com/CoinFacts/80811003_51807535_2200.jpg',\n",
       " 'https://images.pcgs.com/CoinFacts/39198765_188265655_2200.jpg',\n",
       " 'https://images.pcgs.com/CoinFacts/43556317_237699607_2200.jpg',\n",
       " 'https://images.pcgs.com/CoinFacts/33274918_142794105_2200.jpg',\n",
       " 'https://images.pcgs.com/CoinFacts/31487624_45111876_2200.jpg',\n",
       " 'https://images.pcgs.com/CoinFacts/35646089_136163728_2200.jpg',\n",
       " 'https://images.pcgs.com/CoinFacts/44915029_241590302_2200.jpg',\n",
       " 'https://images.pcgs.com/CoinFacts/45953595_251032028_2200.jpg',\n",
       " 'https://images.pcgs.com/CoinFacts/41478887_208495498_2200.jpg',\n",
       " 'https://images.pcgs.com/CoinFacts/39163745_188938322_2200.jpg',\n",
       " 'https://images.pcgs.com/CoinFacts/42908036_223280999_2200.jpg',\n",
       " 'https://images.pcgs.com/CoinFacts/38796109_178831085_2200.jpg',\n",
       " 'https://images.pcgs.com/CoinFacts/43736767_229466801_2200.jpg',\n",
       " 'https://images.pcgs.com/CoinFacts/15673901_148983745_2200.jpg',\n",
       " 'https://images.pcgs.com/CoinFacts/41435587_208806595_2200.jpg',\n",
       " 'https://images.pcgs.com/CoinFacts/42611462_222683124_2200.jpg',\n",
       " 'https://images.pcgs.com/CoinFacts/84744715_69140988_2200.jpg',\n",
       " 'https://images.pcgs.com/CoinFacts/45571163_238935802_2200.jpg']"
      ]
     },
     "execution_count": 99,
     "metadata": {},
     "output_type": "execute_result"
    }
   ],
   "source": [
    "generate_all_image_urls('https://www.pcgs.com/coinfacts/coin/1916-10c/images/4904')"
   ]
  },
  {
   "cell_type": "code",
   "execution_count": 90,
   "id": "89a5e01b",
   "metadata": {},
   "outputs": [],
   "source": [
    "def generate_grade(URL):\n",
    "    scraper = cloudscraper.create_scraper()\n",
    "    raw_scrape = scraper.get(URL)\n",
    "    html = raw_scrape.text\n",
    "    grade_list = []\n",
    "    for x in range (html.count('GRADE')):\n",
    "        temp = html[find_nth(html, 'GRADE',x+1)+66:find_nth(html, 'GRADE',x+1)+68]\n",
    "        \n",
    "\n",
    "        #temp = html[find_nth(html,'https://images.pcgs.com/CoinFacts/', x):find_nth(html,'https://images.pcgs.com/CoinFacts/', x)+60]\n",
    "    \n",
    "        if temp[-1] == '<':\n",
    "            temp = temp [:-1]\n",
    "        grade_list.append(temp)\n",
    "    #grade_list.pop(0)\n",
    "    return grade_list"
   ]
  },
  {
   "cell_type": "code",
   "execution_count": 55,
   "id": "a2bcbb69",
   "metadata": {},
   "outputs": [
    {
     "name": "stdout",
     "output_type": "stream",
     "text": [
      "17\n"
     ]
    },
    {
     "data": {
      "text/plain": [
       "['68',\n",
       " '66',\n",
       " '66',\n",
       " '66',\n",
       " '65',\n",
       " '65',\n",
       " '62',\n",
       " '58',\n",
       " '58',\n",
       " '58',\n",
       " '53',\n",
       " '53',\n",
       " '45',\n",
       " '45',\n",
       " '40',\n",
       " '35',\n",
       " '15']"
      ]
     },
     "execution_count": 55,
     "metadata": {},
     "output_type": "execute_result"
    }
   ],
   "source": [
    "generate_grade('https://www.pcgs.com/coinfacts/coin/1944-D-10c/images/5052')"
   ]
  },
  {
   "cell_type": "code",
   "execution_count": 62,
   "id": "dbe83d44",
   "metadata": {},
   "outputs": [
    {
     "name": "stdout",
     "output_type": "stream",
     "text": [
      "4904\n"
     ]
    }
   ],
   "source": [
    "print(all_date_urls[0][-4:])"
   ]
  },
  {
   "cell_type": "code",
   "execution_count": 113,
   "id": "5293154f",
   "metadata": {},
   "outputs": [
    {
     "name": "stdout",
     "output_type": "stream",
     "text": [
      "17\n"
     ]
    },
    {
     "ename": "KeyboardInterrupt",
     "evalue": "",
     "output_type": "error",
     "traceback": [
      "\u001b[0;31m---------------------------------------------------------------------------\u001b[0m",
      "\u001b[0;31mKeyboardInterrupt\u001b[0m                         Traceback (most recent call last)",
      "Cell \u001b[0;32mIn[113], line 7\u001b[0m\n\u001b[1;32m      4\u001b[0m \u001b[38;5;66;03m#time.sleep(5)\u001b[39;00m\n\u001b[1;32m      6\u001b[0m \u001b[38;5;28;01mfor\u001b[39;00m y \u001b[38;5;129;01min\u001b[39;00m \u001b[38;5;28mrange\u001b[39m(\u001b[38;5;28mlen\u001b[39m(images)):\n\u001b[0;32m----> 7\u001b[0m     \u001b[43mdownload_image\u001b[49m\u001b[43m(\u001b[49m\u001b[43mimages\u001b[49m\u001b[43m[\u001b[49m\u001b[43my\u001b[49m\u001b[43m]\u001b[49m\u001b[43m,\u001b[49m\u001b[43mgrades\u001b[49m\u001b[43m[\u001b[49m\u001b[43my\u001b[49m\u001b[43m]\u001b[49m\u001b[43m)\u001b[49m\n",
      "Cell \u001b[0;32mIn[111], line 3\u001b[0m, in \u001b[0;36mdownload_image\u001b[0;34m(_url, _grade)\u001b[0m\n\u001b[1;32m      1\u001b[0m \u001b[38;5;28;01mdef\u001b[39;00m \u001b[38;5;21mdownload_image\u001b[39m(_url,_grade):\n\u001b[1;32m      2\u001b[0m     image_scraper \u001b[38;5;241m=\u001b[39m cloudscraper\u001b[38;5;241m.\u001b[39mcreate_scraper()\n\u001b[0;32m----> 3\u001b[0m     img_data \u001b[38;5;241m=\u001b[39m \u001b[43mimage_scraper\u001b[49m\u001b[38;5;241;43m.\u001b[39;49m\u001b[43mget\u001b[49m\u001b[43m(\u001b[49m\u001b[43m_url\u001b[49m\u001b[43m)\u001b[49m\u001b[38;5;241m.\u001b[39mcontent\n\u001b[1;32m      5\u001b[0m     \u001b[38;5;28;01mwith\u001b[39;00m \u001b[38;5;28mopen\u001b[39m(\u001b[38;5;124m'\u001b[39m\u001b[38;5;124massets/graded_images/\u001b[39m\u001b[38;5;124m'\u001b[39m \u001b[38;5;241m+\u001b[39m \u001b[38;5;28mstr\u001b[39m(_grade) \u001b[38;5;241m+\u001b[39m\u001b[38;5;124m'\u001b[39m\u001b[38;5;124m/\u001b[39m\u001b[38;5;124m'\u001b[39m\u001b[38;5;241m+\u001b[39m _url[\u001b[38;5;241m-\u001b[39m\u001b[38;5;241m19\u001b[39m:], \u001b[38;5;124m'\u001b[39m\u001b[38;5;124mwb\u001b[39m\u001b[38;5;124m'\u001b[39m) \u001b[38;5;28;01mas\u001b[39;00m handler:\n\u001b[1;32m      6\u001b[0m         handler\u001b[38;5;241m.\u001b[39mwrite(img_data)\n",
      "File \u001b[0;32m~/.local/lib/python3.10/site-packages/requests/sessions.py:600\u001b[0m, in \u001b[0;36mSession.get\u001b[0;34m(self, url, **kwargs)\u001b[0m\n\u001b[1;32m    592\u001b[0m \u001b[38;5;124mr\u001b[39m\u001b[38;5;124;03m\"\"\"Sends a GET request. Returns :class:`Response` object.\u001b[39;00m\n\u001b[1;32m    593\u001b[0m \n\u001b[1;32m    594\u001b[0m \u001b[38;5;124;03m:param url: URL for the new :class:`Request` object.\u001b[39;00m\n\u001b[1;32m    595\u001b[0m \u001b[38;5;124;03m:param \\*\\*kwargs: Optional arguments that ``request`` takes.\u001b[39;00m\n\u001b[1;32m    596\u001b[0m \u001b[38;5;124;03m:rtype: requests.Response\u001b[39;00m\n\u001b[1;32m    597\u001b[0m \u001b[38;5;124;03m\"\"\"\u001b[39;00m\n\u001b[1;32m    599\u001b[0m kwargs\u001b[38;5;241m.\u001b[39msetdefault(\u001b[38;5;124m\"\u001b[39m\u001b[38;5;124mallow_redirects\u001b[39m\u001b[38;5;124m\"\u001b[39m, \u001b[38;5;28;01mTrue\u001b[39;00m)\n\u001b[0;32m--> 600\u001b[0m \u001b[38;5;28;01mreturn\u001b[39;00m \u001b[38;5;28;43mself\u001b[39;49m\u001b[38;5;241;43m.\u001b[39;49m\u001b[43mrequest\u001b[49m\u001b[43m(\u001b[49m\u001b[38;5;124;43m\"\u001b[39;49m\u001b[38;5;124;43mGET\u001b[39;49m\u001b[38;5;124;43m\"\u001b[39;49m\u001b[43m,\u001b[49m\u001b[43m \u001b[49m\u001b[43murl\u001b[49m\u001b[43m,\u001b[49m\u001b[43m \u001b[49m\u001b[38;5;241;43m*\u001b[39;49m\u001b[38;5;241;43m*\u001b[39;49m\u001b[43mkwargs\u001b[49m\u001b[43m)\u001b[49m\n",
      "File \u001b[0;32m~/.local/lib/python3.10/site-packages/cloudscraper/__init__.py:257\u001b[0m, in \u001b[0;36mCloudScraper.request\u001b[0;34m(self, method, url, *args, **kwargs)\u001b[0m\n\u001b[1;32m    244\u001b[0m     (method, url, args, kwargs) \u001b[38;5;241m=\u001b[39m \u001b[38;5;28mself\u001b[39m\u001b[38;5;241m.\u001b[39mrequestPreHook(\n\u001b[1;32m    245\u001b[0m         \u001b[38;5;28mself\u001b[39m,\n\u001b[1;32m    246\u001b[0m         method,\n\u001b[0;32m   (...)\u001b[0m\n\u001b[1;32m    249\u001b[0m         \u001b[38;5;241m*\u001b[39m\u001b[38;5;241m*\u001b[39mkwargs\n\u001b[1;32m    250\u001b[0m     )\n\u001b[1;32m    252\u001b[0m \u001b[38;5;66;03m# ------------------------------------------------------------------------------- #\u001b[39;00m\n\u001b[1;32m    253\u001b[0m \u001b[38;5;66;03m# Make the request via requests.\u001b[39;00m\n\u001b[1;32m    254\u001b[0m \u001b[38;5;66;03m# ------------------------------------------------------------------------------- #\u001b[39;00m\n\u001b[1;32m    256\u001b[0m response \u001b[38;5;241m=\u001b[39m \u001b[38;5;28mself\u001b[39m\u001b[38;5;241m.\u001b[39mdecodeBrotli(\n\u001b[0;32m--> 257\u001b[0m     \u001b[38;5;28;43mself\u001b[39;49m\u001b[38;5;241;43m.\u001b[39;49m\u001b[43mperform_request\u001b[49m\u001b[43m(\u001b[49m\u001b[43mmethod\u001b[49m\u001b[43m,\u001b[49m\u001b[43m \u001b[49m\u001b[43murl\u001b[49m\u001b[43m,\u001b[49m\u001b[43m \u001b[49m\u001b[38;5;241;43m*\u001b[39;49m\u001b[43margs\u001b[49m\u001b[43m,\u001b[49m\u001b[43m \u001b[49m\u001b[38;5;241;43m*\u001b[39;49m\u001b[38;5;241;43m*\u001b[39;49m\u001b[43mkwargs\u001b[49m\u001b[43m)\u001b[49m\n\u001b[1;32m    258\u001b[0m )\n\u001b[1;32m    260\u001b[0m \u001b[38;5;66;03m# ------------------------------------------------------------------------------- #\u001b[39;00m\n\u001b[1;32m    261\u001b[0m \u001b[38;5;66;03m# Debug the request via the Response object.\u001b[39;00m\n\u001b[1;32m    262\u001b[0m \u001b[38;5;66;03m# ------------------------------------------------------------------------------- #\u001b[39;00m\n\u001b[1;32m    264\u001b[0m \u001b[38;5;28;01mif\u001b[39;00m \u001b[38;5;28mself\u001b[39m\u001b[38;5;241m.\u001b[39mdebug:\n",
      "File \u001b[0;32m~/.local/lib/python3.10/site-packages/cloudscraper/__init__.py:190\u001b[0m, in \u001b[0;36mCloudScraper.perform_request\u001b[0;34m(self, method, url, *args, **kwargs)\u001b[0m\n\u001b[1;32m    189\u001b[0m \u001b[38;5;28;01mdef\u001b[39;00m \u001b[38;5;21mperform_request\u001b[39m(\u001b[38;5;28mself\u001b[39m, method, url, \u001b[38;5;241m*\u001b[39margs, \u001b[38;5;241m*\u001b[39m\u001b[38;5;241m*\u001b[39mkwargs):\n\u001b[0;32m--> 190\u001b[0m     \u001b[38;5;28;01mreturn\u001b[39;00m \u001b[38;5;28;43msuper\u001b[39;49m\u001b[43m(\u001b[49m\u001b[43mCloudScraper\u001b[49m\u001b[43m,\u001b[49m\u001b[43m \u001b[49m\u001b[38;5;28;43mself\u001b[39;49m\u001b[43m)\u001b[49m\u001b[38;5;241;43m.\u001b[39;49m\u001b[43mrequest\u001b[49m\u001b[43m(\u001b[49m\u001b[43mmethod\u001b[49m\u001b[43m,\u001b[49m\u001b[43m \u001b[49m\u001b[43murl\u001b[49m\u001b[43m,\u001b[49m\u001b[43m \u001b[49m\u001b[38;5;241;43m*\u001b[39;49m\u001b[43margs\u001b[49m\u001b[43m,\u001b[49m\u001b[43m \u001b[49m\u001b[38;5;241;43m*\u001b[39;49m\u001b[38;5;241;43m*\u001b[39;49m\u001b[43mkwargs\u001b[49m\u001b[43m)\u001b[49m\n",
      "File \u001b[0;32m~/.local/lib/python3.10/site-packages/requests/sessions.py:587\u001b[0m, in \u001b[0;36mSession.request\u001b[0;34m(self, method, url, params, data, headers, cookies, files, auth, timeout, allow_redirects, proxies, hooks, stream, verify, cert, json)\u001b[0m\n\u001b[1;32m    582\u001b[0m send_kwargs \u001b[38;5;241m=\u001b[39m {\n\u001b[1;32m    583\u001b[0m     \u001b[38;5;124m\"\u001b[39m\u001b[38;5;124mtimeout\u001b[39m\u001b[38;5;124m\"\u001b[39m: timeout,\n\u001b[1;32m    584\u001b[0m     \u001b[38;5;124m\"\u001b[39m\u001b[38;5;124mallow_redirects\u001b[39m\u001b[38;5;124m\"\u001b[39m: allow_redirects,\n\u001b[1;32m    585\u001b[0m }\n\u001b[1;32m    586\u001b[0m send_kwargs\u001b[38;5;241m.\u001b[39mupdate(settings)\n\u001b[0;32m--> 587\u001b[0m resp \u001b[38;5;241m=\u001b[39m \u001b[38;5;28;43mself\u001b[39;49m\u001b[38;5;241;43m.\u001b[39;49m\u001b[43msend\u001b[49m\u001b[43m(\u001b[49m\u001b[43mprep\u001b[49m\u001b[43m,\u001b[49m\u001b[43m \u001b[49m\u001b[38;5;241;43m*\u001b[39;49m\u001b[38;5;241;43m*\u001b[39;49m\u001b[43msend_kwargs\u001b[49m\u001b[43m)\u001b[49m\n\u001b[1;32m    589\u001b[0m \u001b[38;5;28;01mreturn\u001b[39;00m resp\n",
      "File \u001b[0;32m~/.local/lib/python3.10/site-packages/requests/sessions.py:745\u001b[0m, in \u001b[0;36mSession.send\u001b[0;34m(self, request, **kwargs)\u001b[0m\n\u001b[1;32m    742\u001b[0m         \u001b[38;5;28;01mpass\u001b[39;00m\n\u001b[1;32m    744\u001b[0m \u001b[38;5;28;01mif\u001b[39;00m \u001b[38;5;129;01mnot\u001b[39;00m stream:\n\u001b[0;32m--> 745\u001b[0m     \u001b[43mr\u001b[49m\u001b[38;5;241;43m.\u001b[39;49m\u001b[43mcontent\u001b[49m\n\u001b[1;32m    747\u001b[0m \u001b[38;5;28;01mreturn\u001b[39;00m r\n",
      "File \u001b[0;32m~/.local/lib/python3.10/site-packages/requests/models.py:899\u001b[0m, in \u001b[0;36mResponse.content\u001b[0;34m(self)\u001b[0m\n\u001b[1;32m    897\u001b[0m         \u001b[38;5;28mself\u001b[39m\u001b[38;5;241m.\u001b[39m_content \u001b[38;5;241m=\u001b[39m \u001b[38;5;28;01mNone\u001b[39;00m\n\u001b[1;32m    898\u001b[0m     \u001b[38;5;28;01melse\u001b[39;00m:\n\u001b[0;32m--> 899\u001b[0m         \u001b[38;5;28mself\u001b[39m\u001b[38;5;241m.\u001b[39m_content \u001b[38;5;241m=\u001b[39m \u001b[38;5;124;43mb\u001b[39;49m\u001b[38;5;124;43m\"\u001b[39;49m\u001b[38;5;124;43m\"\u001b[39;49m\u001b[38;5;241;43m.\u001b[39;49m\u001b[43mjoin\u001b[49m\u001b[43m(\u001b[49m\u001b[38;5;28;43mself\u001b[39;49m\u001b[38;5;241;43m.\u001b[39;49m\u001b[43miter_content\u001b[49m\u001b[43m(\u001b[49m\u001b[43mCONTENT_CHUNK_SIZE\u001b[49m\u001b[43m)\u001b[49m\u001b[43m)\u001b[49m \u001b[38;5;129;01mor\u001b[39;00m \u001b[38;5;124mb\u001b[39m\u001b[38;5;124m\"\u001b[39m\u001b[38;5;124m\"\u001b[39m\n\u001b[1;32m    901\u001b[0m \u001b[38;5;28mself\u001b[39m\u001b[38;5;241m.\u001b[39m_content_consumed \u001b[38;5;241m=\u001b[39m \u001b[38;5;28;01mTrue\u001b[39;00m\n\u001b[1;32m    902\u001b[0m \u001b[38;5;66;03m# don't need to release the connection; that's been handled by urllib3\u001b[39;00m\n\u001b[1;32m    903\u001b[0m \u001b[38;5;66;03m# since we exhausted the data.\u001b[39;00m\n",
      "File \u001b[0;32m~/.local/lib/python3.10/site-packages/requests/models.py:816\u001b[0m, in \u001b[0;36mResponse.iter_content.<locals>.generate\u001b[0;34m()\u001b[0m\n\u001b[1;32m    814\u001b[0m \u001b[38;5;28;01mif\u001b[39;00m \u001b[38;5;28mhasattr\u001b[39m(\u001b[38;5;28mself\u001b[39m\u001b[38;5;241m.\u001b[39mraw, \u001b[38;5;124m\"\u001b[39m\u001b[38;5;124mstream\u001b[39m\u001b[38;5;124m\"\u001b[39m):\n\u001b[1;32m    815\u001b[0m     \u001b[38;5;28;01mtry\u001b[39;00m:\n\u001b[0;32m--> 816\u001b[0m         \u001b[38;5;28;01myield from\u001b[39;00m \u001b[38;5;28mself\u001b[39m\u001b[38;5;241m.\u001b[39mraw\u001b[38;5;241m.\u001b[39mstream(chunk_size, decode_content\u001b[38;5;241m=\u001b[39m\u001b[38;5;28;01mTrue\u001b[39;00m)\n\u001b[1;32m    817\u001b[0m     \u001b[38;5;28;01mexcept\u001b[39;00m ProtocolError \u001b[38;5;28;01mas\u001b[39;00m e:\n\u001b[1;32m    818\u001b[0m         \u001b[38;5;28;01mraise\u001b[39;00m ChunkedEncodingError(e)\n",
      "File \u001b[0;32m/usr/lib/python3/dist-packages/urllib3/response.py:576\u001b[0m, in \u001b[0;36mHTTPResponse.stream\u001b[0;34m(self, amt, decode_content)\u001b[0m\n\u001b[1;32m    574\u001b[0m \u001b[38;5;28;01melse\u001b[39;00m:\n\u001b[1;32m    575\u001b[0m     \u001b[38;5;28;01mwhile\u001b[39;00m \u001b[38;5;129;01mnot\u001b[39;00m is_fp_closed(\u001b[38;5;28mself\u001b[39m\u001b[38;5;241m.\u001b[39m_fp):\n\u001b[0;32m--> 576\u001b[0m         data \u001b[38;5;241m=\u001b[39m \u001b[38;5;28;43mself\u001b[39;49m\u001b[38;5;241;43m.\u001b[39;49m\u001b[43mread\u001b[49m\u001b[43m(\u001b[49m\u001b[43mamt\u001b[49m\u001b[38;5;241;43m=\u001b[39;49m\u001b[43mamt\u001b[49m\u001b[43m,\u001b[49m\u001b[43m \u001b[49m\u001b[43mdecode_content\u001b[49m\u001b[38;5;241;43m=\u001b[39;49m\u001b[43mdecode_content\u001b[49m\u001b[43m)\u001b[49m\n\u001b[1;32m    578\u001b[0m         \u001b[38;5;28;01mif\u001b[39;00m data:\n\u001b[1;32m    579\u001b[0m             \u001b[38;5;28;01myield\u001b[39;00m data\n",
      "File \u001b[0;32m/usr/lib/python3/dist-packages/urllib3/response.py:519\u001b[0m, in \u001b[0;36mHTTPResponse.read\u001b[0;34m(self, amt, decode_content, cache_content)\u001b[0m\n\u001b[1;32m    517\u001b[0m \u001b[38;5;28;01melse\u001b[39;00m:\n\u001b[1;32m    518\u001b[0m     cache_content \u001b[38;5;241m=\u001b[39m \u001b[38;5;28;01mFalse\u001b[39;00m\n\u001b[0;32m--> 519\u001b[0m     data \u001b[38;5;241m=\u001b[39m \u001b[38;5;28;43mself\u001b[39;49m\u001b[38;5;241;43m.\u001b[39;49m\u001b[43m_fp\u001b[49m\u001b[38;5;241;43m.\u001b[39;49m\u001b[43mread\u001b[49m\u001b[43m(\u001b[49m\u001b[43mamt\u001b[49m\u001b[43m)\u001b[49m \u001b[38;5;28;01mif\u001b[39;00m \u001b[38;5;129;01mnot\u001b[39;00m fp_closed \u001b[38;5;28;01melse\u001b[39;00m \u001b[38;5;124mb\u001b[39m\u001b[38;5;124m\"\u001b[39m\u001b[38;5;124m\"\u001b[39m\n\u001b[1;32m    520\u001b[0m     \u001b[38;5;28;01mif\u001b[39;00m (\n\u001b[1;32m    521\u001b[0m         amt \u001b[38;5;241m!=\u001b[39m \u001b[38;5;241m0\u001b[39m \u001b[38;5;129;01mand\u001b[39;00m \u001b[38;5;129;01mnot\u001b[39;00m data\n\u001b[1;32m    522\u001b[0m     ):  \u001b[38;5;66;03m# Platform-specific: Buggy versions of Python.\u001b[39;00m\n\u001b[0;32m   (...)\u001b[0m\n\u001b[1;32m    528\u001b[0m         \u001b[38;5;66;03m# not properly close the connection in all cases. There is\u001b[39;00m\n\u001b[1;32m    529\u001b[0m         \u001b[38;5;66;03m# no harm in redundantly calling close.\u001b[39;00m\n\u001b[1;32m    530\u001b[0m         \u001b[38;5;28mself\u001b[39m\u001b[38;5;241m.\u001b[39m_fp\u001b[38;5;241m.\u001b[39mclose()\n",
      "File \u001b[0;32m/usr/lib/python3.10/http/client.py:465\u001b[0m, in \u001b[0;36mHTTPResponse.read\u001b[0;34m(self, amt)\u001b[0m\n\u001b[1;32m    462\u001b[0m \u001b[38;5;28;01mif\u001b[39;00m \u001b[38;5;28mself\u001b[39m\u001b[38;5;241m.\u001b[39mlength \u001b[38;5;129;01mis\u001b[39;00m \u001b[38;5;129;01mnot\u001b[39;00m \u001b[38;5;28;01mNone\u001b[39;00m \u001b[38;5;129;01mand\u001b[39;00m amt \u001b[38;5;241m>\u001b[39m \u001b[38;5;28mself\u001b[39m\u001b[38;5;241m.\u001b[39mlength:\n\u001b[1;32m    463\u001b[0m     \u001b[38;5;66;03m# clip the read to the \"end of response\"\u001b[39;00m\n\u001b[1;32m    464\u001b[0m     amt \u001b[38;5;241m=\u001b[39m \u001b[38;5;28mself\u001b[39m\u001b[38;5;241m.\u001b[39mlength\n\u001b[0;32m--> 465\u001b[0m s \u001b[38;5;241m=\u001b[39m \u001b[38;5;28;43mself\u001b[39;49m\u001b[38;5;241;43m.\u001b[39;49m\u001b[43mfp\u001b[49m\u001b[38;5;241;43m.\u001b[39;49m\u001b[43mread\u001b[49m\u001b[43m(\u001b[49m\u001b[43mamt\u001b[49m\u001b[43m)\u001b[49m\n\u001b[1;32m    466\u001b[0m \u001b[38;5;28;01mif\u001b[39;00m \u001b[38;5;129;01mnot\u001b[39;00m s \u001b[38;5;129;01mand\u001b[39;00m amt:\n\u001b[1;32m    467\u001b[0m     \u001b[38;5;66;03m# Ideally, we would raise IncompleteRead if the content-length\u001b[39;00m\n\u001b[1;32m    468\u001b[0m     \u001b[38;5;66;03m# wasn't satisfied, but it might break compatibility.\u001b[39;00m\n\u001b[1;32m    469\u001b[0m     \u001b[38;5;28mself\u001b[39m\u001b[38;5;241m.\u001b[39m_close_conn()\n",
      "File \u001b[0;32m/usr/lib/python3.10/socket.py:705\u001b[0m, in \u001b[0;36mSocketIO.readinto\u001b[0;34m(self, b)\u001b[0m\n\u001b[1;32m    703\u001b[0m \u001b[38;5;28;01mwhile\u001b[39;00m \u001b[38;5;28;01mTrue\u001b[39;00m:\n\u001b[1;32m    704\u001b[0m     \u001b[38;5;28;01mtry\u001b[39;00m:\n\u001b[0;32m--> 705\u001b[0m         \u001b[38;5;28;01mreturn\u001b[39;00m \u001b[38;5;28;43mself\u001b[39;49m\u001b[38;5;241;43m.\u001b[39;49m\u001b[43m_sock\u001b[49m\u001b[38;5;241;43m.\u001b[39;49m\u001b[43mrecv_into\u001b[49m\u001b[43m(\u001b[49m\u001b[43mb\u001b[49m\u001b[43m)\u001b[49m\n\u001b[1;32m    706\u001b[0m     \u001b[38;5;28;01mexcept\u001b[39;00m timeout:\n\u001b[1;32m    707\u001b[0m         \u001b[38;5;28mself\u001b[39m\u001b[38;5;241m.\u001b[39m_timeout_occurred \u001b[38;5;241m=\u001b[39m \u001b[38;5;28;01mTrue\u001b[39;00m\n",
      "File \u001b[0;32m/usr/lib/python3.10/ssl.py:1274\u001b[0m, in \u001b[0;36mSSLSocket.recv_into\u001b[0;34m(self, buffer, nbytes, flags)\u001b[0m\n\u001b[1;32m   1270\u001b[0m     \u001b[38;5;28;01mif\u001b[39;00m flags \u001b[38;5;241m!=\u001b[39m \u001b[38;5;241m0\u001b[39m:\n\u001b[1;32m   1271\u001b[0m         \u001b[38;5;28;01mraise\u001b[39;00m \u001b[38;5;167;01mValueError\u001b[39;00m(\n\u001b[1;32m   1272\u001b[0m           \u001b[38;5;124m\"\u001b[39m\u001b[38;5;124mnon-zero flags not allowed in calls to recv_into() on \u001b[39m\u001b[38;5;132;01m%s\u001b[39;00m\u001b[38;5;124m\"\u001b[39m \u001b[38;5;241m%\u001b[39m\n\u001b[1;32m   1273\u001b[0m           \u001b[38;5;28mself\u001b[39m\u001b[38;5;241m.\u001b[39m\u001b[38;5;18m__class__\u001b[39m)\n\u001b[0;32m-> 1274\u001b[0m     \u001b[38;5;28;01mreturn\u001b[39;00m \u001b[38;5;28;43mself\u001b[39;49m\u001b[38;5;241;43m.\u001b[39;49m\u001b[43mread\u001b[49m\u001b[43m(\u001b[49m\u001b[43mnbytes\u001b[49m\u001b[43m,\u001b[49m\u001b[43m \u001b[49m\u001b[43mbuffer\u001b[49m\u001b[43m)\u001b[49m\n\u001b[1;32m   1275\u001b[0m \u001b[38;5;28;01melse\u001b[39;00m:\n\u001b[1;32m   1276\u001b[0m     \u001b[38;5;28;01mreturn\u001b[39;00m \u001b[38;5;28msuper\u001b[39m()\u001b[38;5;241m.\u001b[39mrecv_into(buffer, nbytes, flags)\n",
      "File \u001b[0;32m/usr/lib/python3.10/ssl.py:1130\u001b[0m, in \u001b[0;36mSSLSocket.read\u001b[0;34m(self, len, buffer)\u001b[0m\n\u001b[1;32m   1128\u001b[0m \u001b[38;5;28;01mtry\u001b[39;00m:\n\u001b[1;32m   1129\u001b[0m     \u001b[38;5;28;01mif\u001b[39;00m buffer \u001b[38;5;129;01mis\u001b[39;00m \u001b[38;5;129;01mnot\u001b[39;00m \u001b[38;5;28;01mNone\u001b[39;00m:\n\u001b[0;32m-> 1130\u001b[0m         \u001b[38;5;28;01mreturn\u001b[39;00m \u001b[38;5;28;43mself\u001b[39;49m\u001b[38;5;241;43m.\u001b[39;49m\u001b[43m_sslobj\u001b[49m\u001b[38;5;241;43m.\u001b[39;49m\u001b[43mread\u001b[49m\u001b[43m(\u001b[49m\u001b[38;5;28;43mlen\u001b[39;49m\u001b[43m,\u001b[49m\u001b[43m \u001b[49m\u001b[43mbuffer\u001b[49m\u001b[43m)\u001b[49m\n\u001b[1;32m   1131\u001b[0m     \u001b[38;5;28;01melse\u001b[39;00m:\n\u001b[1;32m   1132\u001b[0m         \u001b[38;5;28;01mreturn\u001b[39;00m \u001b[38;5;28mself\u001b[39m\u001b[38;5;241m.\u001b[39m_sslobj\u001b[38;5;241m.\u001b[39mread(\u001b[38;5;28mlen\u001b[39m)\n",
      "\u001b[0;31mKeyboardInterrupt\u001b[0m: "
     ]
    }
   ],
   "source": [
    "for x in range(len(all_date_urls)):\n",
    "    images = generate_all_image_urls(all_date_urls[x])\n",
    "    grades = generate_grade(all_date_urls[x])\n",
    "    #time.sleep(5)\n",
    "    \n",
    "    for y in range(len(images)):\n",
    "        download_image(images[y],grades[y])"
   ]
  },
  {
   "cell_type": "code",
   "execution_count": null,
   "id": "ea6cb7ba",
   "metadata": {},
   "outputs": [],
   "source": []
  }
 ],
 "metadata": {
  "kernelspec": {
   "display_name": "Python 3 (ipykernel)",
   "language": "python",
   "name": "python3"
  },
  "language_info": {
   "codemirror_mode": {
    "name": "ipython",
    "version": 3
   },
   "file_extension": ".py",
   "mimetype": "text/x-python",
   "name": "python",
   "nbconvert_exporter": "python",
   "pygments_lexer": "ipython3",
   "version": "3.10.6"
  }
 },
 "nbformat": 4,
 "nbformat_minor": 5
}
